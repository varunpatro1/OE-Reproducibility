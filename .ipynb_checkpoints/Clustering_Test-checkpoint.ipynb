{
 "cells": [
  {
   "cell_type": "code",
   "execution_count": 64,
   "id": "09b84f5d-2878-4b53-9b11-43d7789af518",
   "metadata": {},
   "outputs": [],
   "source": [
    "import numpy as np\n",
    "import time\n",
    "from geoarray import GeoArray\n",
    "import scipy\n",
    "from sklearn.cluster import KMeans\n",
    "import matplotlib.pyplot as plt\n",
    "from scipy.signal import savgol_filter\n",
    "import tkinter\n",
    "import matplotlib\n",
    "matplotlib.use('TkAgg')\n",
    "%matplotlib inline"
   ]
  },
  {
   "cell_type": "code",
   "execution_count": 65,
   "id": "d32f3a5d-0fdf-4132-8af7-48341c7b852a",
   "metadata": {},
   "outputs": [
    {
     "name": "stdout",
     "output_type": "stream",
     "text": [
      "(5618, 704, 425)\n",
      "<class 'geoarray.baseclasses.GeoArray'>\n"
     ]
    }
   ],
   "source": [
    "data = GeoArray('C:\\\\Users\\\\vpatro\\\\Desktop\\\\ang20160126\\\\ang20160126t055327_corr_v2m2_img')\n",
    "print(data.shape)\n",
    "print(type(data))"
   ]
  },
  {
   "cell_type": "code",
   "execution_count": 75,
   "id": "e464b8be-cbe4-49c1-a331-9dbabd9a84f6",
   "metadata": {},
   "outputs": [],
   "source": [
    "def remove_bad_bands(spectra: np.array):\n",
    "    bands = list(range(1,426))\n",
    "    bands = np.array(bands)\n",
    "    deeph2o = np.logical_or(np.logical_and(bands > 181, bands < 215), np.logical_and(bands > 275, bands < 325))\n",
    "    bad_cal = bands > 418\n",
    "    bad = np.logical_or(deeph2o, bad_cal)\n",
    "    spectra[bad] = np.nan\n",
    "\n",
    "# SavGol smoothening function\n",
    "\n",
    "def savgol_smoothening(spectra_list:list):\n",
    "    for spectra in spectra_list:\n",
    "        noise_peak_1 = spectra[105:120].copy()\n",
    "        noise_peak_2 = spectra[140:165].copy()\n",
    "        spectra[105:120] = savgol_filter(noise_peak_1, 11,1)\n",
    "        spectra[140:165] = savgol_filter(noise_peak_2, 21, 1)\n",
    "        \n",
    "                       "
   ]
  },
  {
   "cell_type": "code",
   "execution_count": 68,
   "id": "43d317f8-589a-4401-a58f-cf3f58897e22",
   "metadata": {},
   "outputs": [
    {
     "name": "stdout",
     "output_type": "stream",
     "text": [
      "--- 147.68428993225098 seconds ---\n"
     ]
    }
   ],
   "source": [
    "# is taking about 2 minutes to chop\n",
    "start_time = time.time()\n",
    "data = data[50:5501, 150:601, :]\n",
    "print(\"--- %s seconds ---\" % (time.time() - start_time))"
   ]
  },
  {
   "cell_type": "code",
   "execution_count": 88,
   "id": "d62d8fcd-7ee8-48dc-ae8f-52d9f4add2a7",
   "metadata": {},
   "outputs": [
    {
     "name": "stdout",
     "output_type": "stream",
     "text": [
      "--- 0.07778286933898926 seconds ---\n",
      "(2458401, 15)\n",
      "--- 0.08690905570983887 seconds ---\n",
      "(2458401, 25)\n"
     ]
    }
   ],
   "source": [
    "start_time = time.time()\n",
    "svgy_p1 = data[:,:,105:120].copy()\n",
    "svgy_p1 = svgy_p1.reshape((svgy_p1.shape[0]*svgy_p1.shape[1], svgy_p1.shape[2]))\n",
    "print(\"--- %s seconds ---\" % (time.time() - start_time))\n",
    "print(svgy_p1.shape)\n",
    "start_time = time.time()\n",
    "svgy_p2 = data[:,:,140:165].copy()\n",
    "svgy_p2 = svgy_p2.reshape((svgy_p2.shape[0]*svgy_p2.shape[1], svgy_p2.shape[2]))\n",
    "print(\"--- %s seconds ---\" % (time.time() - start_time))\n",
    "print(svgy_p2.shape)"
   ]
  },
  {
   "cell_type": "code",
   "execution_count": 89,
   "id": "8374bd08-1814-4c04-b361-f39fb1541643",
   "metadata": {},
   "outputs": [
    {
     "name": "stdout",
     "output_type": "stream",
     "text": [
      "--- 0.550344705581665 seconds ---\n",
      "(2458401, 15)\n",
      "--- 1.2803630828857422 seconds ---\n",
      "(2458401, 25)\n"
     ]
    }
   ],
   "source": [
    "start_time = time.time()\n",
    "svgy_p1 = savgol_filter(svgy_p1, 11, 1, axis = 0)\n",
    "print(\"--- %s seconds ---\" % (time.time() - start_time))\n",
    "print(svgy_p1.shape)\n",
    "start_time = time.time()\n",
    "svgy_p2 = savgol_filter(svgy_p2, 19, 1, axis = 0)\n",
    "print(\"--- %s seconds ---\" % (time.time() - start_time))\n",
    "print(svgy_p2.shape)"
   ]
  },
  {
   "cell_type": "code",
   "execution_count": 98,
   "id": "9792c1ee-5563-42d3-83b9-1b807f0883f2",
   "metadata": {},
   "outputs": [],
   "source": [
    "svgy1_bands = 15\n",
    "svgy2_bands = 25"
   ]
  },
  {
   "cell_type": "code",
   "execution_count": 99,
   "id": "3323e3fd-4860-41cc-bb4d-937bce0b1967",
   "metadata": {},
   "outputs": [
    {
     "name": "stdout",
     "output_type": "stream",
     "text": [
      "--- 0.1790773868560791 seconds ---\n",
      "(5451, 451, 15)\n",
      "--- 0.3744370937347412 seconds ---\n",
      "(5451, 451, 25)\n"
     ]
    }
   ],
   "source": [
    "start_time = time.time()\n",
    "svgy_p1 = svgy_p1.reshape(data.shape[0], data.shape[1], svgy1_bands)\n",
    "data[:,:,105:120] = svgy_p1.copy()\n",
    "print(\"--- %s seconds ---\" % (time.time() - start_time))\n",
    "print(svgy_p1.shape)\n",
    "start_time = time.time()\n",
    "svgy_p2 = svgy_p2.reshape(data.shape[0], data.shape[1], svgy2_bands)\n",
    "data[:,:,140:165] = svgy_p2.copy()\n",
    "print(\"--- %s seconds ---\" % (time.time() - start_time))\n",
    "print(svgy_p2.shape)"
   ]
  },
  {
   "cell_type": "code",
   "execution_count": 107,
   "id": "225ead7f-9924-4fbe-b916-e4f794d51a94",
   "metadata": {},
   "outputs": [
    {
     "data": {
      "text/plain": [
       "(5451, 451, 425)"
      ]
     },
     "execution_count": 107,
     "metadata": {},
     "output_type": "execute_result"
    }
   ],
   "source": [
    "data.shape"
   ]
  },
  {
   "cell_type": "code",
   "execution_count": 108,
   "id": "4f095de8-8b29-49c5-ad4b-66e764b1c07a",
   "metadata": {},
   "outputs": [
    {
     "data": {
      "text/plain": [
       "<matplotlib.legend.Legend at 0x1e3af6475e0>"
      ]
     },
     "execution_count": 108,
     "metadata": {},
     "output_type": "execute_result"
    },
    {
     "data": {
      "image/png": "[encoded data removed]",
      "text/plain": [
       "<Figure size 432x288 with 1 Axes>"
      ]
     },
     "metadata": {
      "needs_background": "light"
     },
     "output_type": "display_data"
    }
   ],
   "source": [
    "# checking to see if the cleaning worked\n",
    "for i in range(4):\n",
    "    spectra = data[np.random.randint(1,5000),np.random.randint(1,400),:]\n",
    "    remove_bad_bands(spectra)\n",
    "    plt.plot(spectra, label = 'Pixel ' + str(i+1))\n",
    "plt.legend()\n",
    "    \n",
    "    "
   ]
  },
  {
   "cell_type": "code",
   "execution_count": 100,
   "id": "a6dc20fd-be09-493e-989b-f9930f148490",
   "metadata": {},
   "outputs": [
    {
     "name": "stdout",
     "output_type": "stream",
     "text": [
      "--- 0.0 seconds ---\n"
     ]
    }
   ],
   "source": [
    "# takes no time at all\n",
    "start_time = time.time()\n",
    "spectra_list = data.reshape((data.shape[0]*data.shape[1], data.shape[2]))\n",
    "print(\"--- %s seconds ---\" % (time.time() - start_time))"
   ]
  },
  {
   "cell_type": "code",
   "execution_count": 101,
   "id": "87386503-b4af-47be-aeb8-74ede16b4068",
   "metadata": {},
   "outputs": [
    {
     "name": "stdout",
     "output_type": "stream",
     "text": [
      "--- 205.06517839431763 seconds ---\n"
     ]
    }
   ],
   "source": [
    "# clustering takes a little over 3 min\n",
    "start_time = time.time()\n",
    "seed = 8\n",
    "kmeans = KMeans(init='k-means++', n_clusters = 4, n_init=10, random_state=seed).fit(spectra_list)\n",
    "print(\"--- %s seconds ---\" % (time.time() - start_time))"
   ]
  },
  {
   "cell_type": "code",
   "execution_count": 102,
   "id": "027f01eb-55ac-4554-bc98-e14daaa6c528",
   "metadata": {},
   "outputs": [
    {
     "name": "stdout",
     "output_type": "stream",
     "text": [
      "<class 'numpy.ndarray'>\n",
      "<class 'numpy.ndarray'>\n",
      "(425,)\n",
      "(4, 425)\n"
     ]
    }
   ],
   "source": [
    "print(type(kmeans.cluster_centers_))\n",
    "print(type(kmeans.cluster_centers_[0]))\n",
    "print(kmeans.cluster_centers_[0].shape)\n",
    "means = kmeans.cluster_centers_\n",
    "print(means.shape)"
   ]
  },
  {
   "cell_type": "code",
   "execution_count": 105,
   "id": "85b73d28-8f01-4c4f-9e2d-df3d188d9340",
   "metadata": {},
   "outputs": [
    {
     "data": {
      "text/plain": [
       "<matplotlib.legend.Legend at 0x1e3af37fc10>"
      ]
     },
     "execution_count": 105,
     "metadata": {},
     "output_type": "execute_result"
    },
    {
     "data": {
      "image/png": "[encoded data removed]",
      "text/plain": [
       "<Figure size 432x288 with 1 Axes>"
      ]
     },
     "metadata": {
      "needs_background": "light"
     },
     "output_type": "display_data"
    }
   ],
   "source": [
    "for i in range(means.shape[0]):\n",
    "    remove_bad_bands(means[i])\n",
    "    plt.plot(means[i], label = 'Mean ' + str(i+1))\n",
    "plt.legend()"
   ]
  },
  {
   "cell_type": "code",
   "execution_count": null,
   "id": "298a3da8-cd61-4ecb-b232-b4a7dc9787f9",
   "metadata": {},
   "outputs": [],
   "source": []
  }
 ],
 "metadata": {
  "kernelspec": {
   "display_name": "Python 3 (ipykernel)",
   "language": "python",
   "name": "python3"
  },
  "language_info": {
   "codemirror_mode": {
    "name": "ipython",
    "version": 3
   },
   "file_extension": ".py",
   "mimetype": "text/x-python",
   "name": "python",
   "nbconvert_exporter": "python",
   "pygments_lexer": "ipython3",
   "version": "3.9.12"
  }
 },
 "nbformat": 4,
 "nbformat_minor": 5
}
