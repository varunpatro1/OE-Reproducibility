{
 "cells": [
  {
   "cell_type": "code",
   "execution_count": 4,
   "id": "fa23bbd0-f612-4192-8c23-ee0cc309fad7",
   "metadata": {},
   "outputs": [],
   "source": [
    "import numpy as np\n",
    "from scipy import stats\n",
    "import matplotlib.pyplot as plt\n",
    "import collections"
   ]
  },
  {
   "cell_type": "code",
   "execution_count": 5,
   "id": "9954e75d-a8f7-4f5a-9f82-f9dcaf667d05",
   "metadata": {},
   "outputs": [],
   "source": [
    "class Pixel(object):\n",
    "    \n",
    "    def __init__(self, rfls, label):\n",
    "        self.rfls = rfls # reflectances across 425 bands\n",
    "        self.label = label # will be the label of the cluster it gets assigned to\n",
    "    \n",
    "    def spectral_angle(self: np.array, other: np.array):\n",
    "        mag_1 = np.sqrt(np.square(self)).sum()\n",
    "        mag_2 = np.sqrt(np.square(other)).sum()\n",
    "\n",
    "        return acos(np.dot(self, other) / (mag_1 * mag_2))"
   ]
  },
  {
   "cell_type": "code",
   "execution_count": 6,
   "id": "509e3b3b-14cc-40af-b74a-93ba8b27f7b2",
   "metadata": {},
   "outputs": [],
   "source": [
    "class Cluster(object):\n",
    "    def __init__(self, pixels, size):\n",
    "        self.pixels = pixels # array of all the pixels in a cluster\n",
    "        self.size = len(self.pixels)\n",
    "        \n",
    "    # UTILITIES\n",
    "    \n",
    "    def purity(self):\n",
    "        labels = []\n",
    "        for pixel in self.pixels:\n",
    "            labels.append(pixel.label)\n",
    "            \n",
    "        cluster_label, count = stats.mode(labels)\n",
    "        return len(labels), np.float64(count)\n",
    "    \n",
    "    def centroid(self):\n",
    "        \n",
    "        \"\"\"\n",
    "        Return the centroid of a particular cluster\n",
    "        \n",
    "        \"\"\"\n",
    "        \n",
    "        sum = np.sum(self.pixels, axis = 0)\n",
    "        centroid = sum/self.size\n",
    "        \n",
    "        return centroid"
   ]
  },
  {
   "cell_type": "code",
   "execution_count": 7,
   "id": "84a53816-e882-4d32-9772-9d58688935f7",
   "metadata": {},
   "outputs": [],
   "source": [
    "class ClusterSet(object):\n",
    "    def __init__(self):\n",
    "        self.clusters = []\n",
    "        \n",
    "    def centroids(self):\n",
    "        centroids = []\n",
    "        for cluster in self.clusters:\n",
    "            centroids.append(cluster.centroid())\n",
    "            "
   ]
  },
  {
   "cell_type": "code",
   "execution_count": null,
   "id": "dca29009-3d1b-49ee-9caf-bf91d8b2713a",
   "metadata": {},
   "outputs": [],
   "source": []
  }
 ],
 "metadata": {
  "kernelspec": {
   "display_name": "Python 3 (ipykernel)",
   "language": "python",
   "name": "python3"
  },
  "language_info": {
   "codemirror_mode": {
    "name": "ipython",
    "version": 3
   },
   "file_extension": ".py",
   "mimetype": "text/x-python",
   "name": "python",
   "nbconvert_exporter": "python",
   "pygments_lexer": "ipython3",
   "version": "3.8.8"
  }
 },
 "nbformat": 4,
 "nbformat_minor": 5
}
