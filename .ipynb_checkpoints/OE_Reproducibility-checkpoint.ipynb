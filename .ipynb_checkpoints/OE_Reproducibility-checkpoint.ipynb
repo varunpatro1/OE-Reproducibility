{
 "cells": [
  {
   "cell_type": "code",
   "execution_count": 1,
   "id": "04fdf06f",
   "metadata": {},
   "outputs": [],
   "source": [
    "from geoarray import GeoArray\n",
    "import matplotlib.pyplot as plt\n",
    "import numpy as np"
   ]
  },
  {
   "cell_type": "code",
   "execution_count": 2,
   "id": "79d3af2b",
   "metadata": {},
   "outputs": [],
   "source": [
    "from isofit.utils import surface_model\n",
    "from isofit.core.forward import ForwardModel\n",
    "from isofit.configs.configs import create_new_config\n",
    "from isofit.inversion.inverse import Inversion\n",
    "from isofit.core.fileio import IO"
   ]
  },
  {
   "cell_type": "code",
   "execution_count": 10,
   "id": "bcb801cd",
   "metadata": {},
   "outputs": [],
   "source": [
    "data = GeoArray('C:\\\\Users\\\\vpatro\\\\Desktop\\\\ang20160126\\\\ang20160126t055327_corr_v2m2_img')"
   ]
  },
  {
   "cell_type": "code",
   "execution_count": 11,
   "id": "a1ce4a4e",
   "metadata": {},
   "outputs": [
    {
     "data": {
      "text/plain": [
       "Text(0.5, 0, 'Wavelength Band')"
      ]
     },
     "execution_count": 11,
     "metadata": {},
     "output_type": "execute_result"
    }
   ],
   "source": [
    "# Sample pixel for experiment\n",
    "avirisng_input = data[200,500,:]\n",
    "plt.plot(avirisng_input)\n",
    "plt.ylim([0,0.5])\n",
    "plt.ylabel('Reflectance')\n",
    "plt.xlabel('Wavelength Band')"
   ]
  },
  {
   "cell_type": "code",
   "execution_count": 16,
   "id": "f373b7fc",
   "metadata": {},
   "outputs": [],
   "source": [
    "np.savetxt('C:\\\\Users\\\\vpatro\\\\Desktop\\\\avirisng_input.txt', avirisng_input)"
   ]
  },
  {
   "cell_type": "code",
   "execution_count": 20,
   "id": "1c169bd3",
   "metadata": {},
   "outputs": [],
   "source": [
    "# Surface model\n",
    "surface_model(\"C:\\\\Users\\\\vpatro\\\\Desktop\\\\isofit_vp\\\\examples\\\\20171108_Pasadena\\\\configs\\\\ang20171108t184227_surface.json\")\n",
    "\n",
    "config = create_new_config(\"C:\\\\Users\\\\vpatro\\\\Desktop\\\\isofit_vp\\\\examples\\\\20171108_Pasadena\\\\configs\\\\ang20171108t184227_beckmanlawn.json\")\n",
    "fm = ForwardModel(config)\n",
    "\n",
    "x = np.loadtxt(\"C:\\\\Users\\\\vpatro\\\\Desktop\\\\avirisng_input.txt\")\n",
    "x = np.append(x,1.75)\n",
    "x = np.append(x,0.05)\n",
    "\n",
    "inv = Inversion(config, fm)\n",
    "io = IO(config, fm)\n",
    "\n",
    "io.get_components_at_index(0, 0)\n",
    "geom = io.current_input_data.geom # alternately, call via geom = Geometry()...this won't have data from the above config file\n",
    "meas = io.current_input_data.meas  # a numpy  array"
   ]
  },
  {
   "cell_type": "code",
   "execution_count": null,
   "id": "f4339acc",
   "metadata": {},
   "outputs": [],
   "source": [
    "OE_estimations = [[], [], [], [], []]\n",
    "for i in range(5):\n",
    "    radiance_measurement = fm.calc_rdn(x,geom)\n",
    "    calculated_reflectance = inv.invert(radiance_measurement, geom)[0]\n",
    "    OE_estimations[i] = calculated_reflectance\n",
    "\n",
    "OE_estimations = np.array(OE_estimations)\n",
    "\n",
    "assert(OE_estimations[0,:].all() == OE_estimations[1,:].all())\n",
    "assert(OE_estimations[0,:].all() == OE_estimations[2,:].all())\n",
    "assert(OE_estimations[0,:].all() == OE_estimations[3,:].all())\n",
    "assert(OE_estimations[0,:].all() == OE_estimations[4,:].all())\n",
    "\n",
    "\n",
    "np.savetxt(os.path.abspath(r'C:\\Users\\vpatro\\\\Desktop\\OE_reflectance_estimation.txt'),\\\n",
    "     OE_estimations)"
   ]
  },
  {
   "cell_type": "code",
   "execution_count": 40,
   "id": "d5dd4f06",
   "metadata": {},
   "outputs": [
    {
     "data": {
      "text/plain": [
       "(0.0, 1.0)"
      ]
     },
     "execution_count": 40,
     "metadata": {},
     "output_type": "execute_result"
    },
    {
     "data": {
      "image/png": "[encoded data removed]",
      "text/plain": [
       "<Figure size 432x288 with 1 Axes>"
      ]
     },
     "metadata": {
      "needs_background": "light"
     },
     "output_type": "display_data"
    }
   ],
   "source": [
    "OE_estimated_reflectance = np.loadtxt('OE_reflectance_estimation.txt')\n",
    "labels = ['Trial 1', 'Trial 2', 'Trial 3', 'Trial 4', 'Trial 5']\n",
    "for i in range(OE_estimated_reflectance.shape[0]):\n",
    "    column = OE_estimated_reflectance[i,:]\n",
    "    plt.plot(column, label = labels[i])\n",
    "#plt.plot(avirisng_input, label = 'True Reflectance')\n",
    "plt.legend()\n",
    "plt.ylabel('Reflectance')\n",
    "plt.xlabel('Wavelength Bands')\n",
    "plt.title('ISOFIT OE through 5 Trials')\n",
    "plt.ylim(0,1)"
   ]
  },
  {
   "cell_type": "code",
   "execution_count": 51,
   "id": "933e2eb7",
   "metadata": {},
   "outputs": [],
   "source": [
    "assert(OE_estimated_reflectance[0,:].all() == OE_estimated_reflectance[1,:].all())\n",
    "assert(OE_estimated_reflectance[0,:].all() == OE_estimated_reflectance[2,:].all())\n",
    "assert(OE_estimated_reflectance[0,:].all() == OE_estimated_reflectance[3,:].all())\n",
    "assert(OE_estimated_reflectance[0,:].all() == OE_estimated_reflectance[4,:].all())"
   ]
  },
  {
   "cell_type": "code",
   "execution_count": null,
   "id": "fb38db0e",
   "metadata": {},
   "outputs": [],
   "source": []
  }
 ],
 "metadata": {
  "kernelspec": {
   "display_name": "Python 3 (ipykernel)",
   "language": "python",
   "name": "python3"
  },
  "language_info": {
   "codemirror_mode": {
    "name": "ipython",
    "version": 3
   },
   "file_extension": ".py",
   "mimetype": "text/x-python",
   "name": "python",
   "nbconvert_exporter": "python",
   "pygments_lexer": "ipython3",
   "version": "3.9.12"
  }
 },
 "nbformat": 4,
 "nbformat_minor": 5
}
