{
 "cells": [
  {
   "cell_type": "code",
   "execution_count": 1,
   "id": "b93c4cdc-81e8-44a4-b52f-92371a712131",
   "metadata": {},
   "outputs": [],
   "source": [
    "import random\n",
    "from geoarray import GeoArray\n",
    "import matplotlib.pyplot as plt\n",
    "import numpy as np\n",
    "import math\n",
    "from scipy.signal import savgol_filter\n",
    "from scipy.interpolate import splev, splrep"
   ]
  },
  {
   "cell_type": "code",
   "execution_count": 2,
   "id": "d6165bfb-07b9-46db-acaa-fbfd2830560a",
   "metadata": {},
   "outputs": [],
   "source": [
    "# importing ISOFIT\n",
    "from isofit.utils import surface_model\n",
    "from isofit.core.forward import ForwardModel\n",
    "from isofit.configs.configs import create_new_config\n",
    "from isofit.inversion.inverse import Inversion\n",
    "from isofit.core.fileio import IO"
   ]
  },
  {
   "cell_type": "code",
   "execution_count": 3,
   "id": "89b722af-585e-4b69-bec5-9faccc34a7c6",
   "metadata": {},
   "outputs": [],
   "source": [
    "import tkinter\n",
    "import matplotlib\n",
    "matplotlib.use('TkAgg')\n",
    "%matplotlib inline"
   ]
  },
  {
   "cell_type": "code",
   "execution_count": 4,
   "id": "13300c54-b527-4236-ae64-d5feecf3ae0c",
   "metadata": {},
   "outputs": [],
   "source": [
    "cluster_1 = np.loadtxt(r'C:\\Users\\vpatro\\Desktop\\Final_Spectra\\Cl_1.txt')"
   ]
  },
  {
   "cell_type": "code",
   "execution_count": 5,
   "id": "23fbb19d-9a34-443f-a7e6-7c46619ec2ec",
   "metadata": {},
   "outputs": [
    {
     "data": {
      "text/plain": [
       "(568528, 321)"
      ]
     },
     "execution_count": 5,
     "metadata": {},
     "output_type": "execute_result"
    }
   ],
   "source": [
    "cluster_1.shape"
   ]
  },
  {
   "cell_type": "code",
   "execution_count": 24,
   "id": "8a9404fa-2206-43d5-b1d0-39fc9d7d9fcd",
   "metadata": {},
   "outputs": [],
   "source": [
    "def sample_spectra(cluster_spectra:np.array):\n",
    "\n",
    "    sample_sets = []\n",
    "    for i in range(5):\n",
    "        sample = random.sample(range(0, cluster_spectra.shape[0]), 10)\n",
    "        sample_sets.append(cluster_spectra[sample])\n",
    "        \n",
    "    sample_sets = np.array(sample_sets)\n",
    "        \n",
    "    return sample_sets"
   ]
  },
  {
   "cell_type": "code",
   "execution_count": 30,
   "id": "92bf807f-7724-40b7-88ab-de2fc455059b",
   "metadata": {},
   "outputs": [],
   "source": [
    "def expand_spectra(cluster_spectra: np.array):\n",
    "    display = np.empty((cluster_spectra.shape[0], cluster_spectra.shape[1], 425))\n",
    "    display[:] = np.nan\n",
    "\n",
    "    \"\"\"\n",
    "    for i in range(cluster_spectra.shape[0]):\n",
    "        display[i, 3:182] = cluster_spectra[i][0:179]\n",
    "        display[i, 224:276] = cluster_spectra[i][179:231]\n",
    "        display[i, 329:419] = cluster_spectra[i][231:321]\n",
    "        \n",
    "    \"\"\"\n",
    "    \n",
    "    display[:,:, 3:182] = cluster_spectra[:,:,0:179]\n",
    "    display[:,:, 224:276] = cluster_spectra[:,:,179:231]\n",
    "    display[:,:, 329:419] = cluster_spectra[:,:,231:321]\n",
    "    \n",
    "    \n",
    "        \n",
    "    return display\n",
    "    "
   ]
  },
  {
   "cell_type": "code",
   "execution_count": 31,
   "id": "e62c9ecd-fe23-41ac-89c5-cd263a608898",
   "metadata": {},
   "outputs": [],
   "source": [
    "sample_sets_1 = sample_spectra(cluster_1)"
   ]
  },
  {
   "cell_type": "code",
   "execution_count": 32,
   "id": "ba688492-d67a-4eb0-b12d-aac57e3bb95e",
   "metadata": {},
   "outputs": [
    {
     "data": {
      "text/plain": [
       "(5, 10, 321)"
      ]
     },
     "execution_count": 32,
     "metadata": {},
     "output_type": "execute_result"
    }
   ],
   "source": [
    "sample_sets_1.shape"
   ]
  },
  {
   "cell_type": "code",
   "execution_count": 33,
   "id": "472b13f2-e9cd-4ba5-bd8d-9cdba4dff414",
   "metadata": {},
   "outputs": [],
   "source": [
    "display_sample_sets_1 = expand_spectra(sample_sets_1)"
   ]
  },
  {
   "cell_type": "code",
   "execution_count": 34,
   "id": "f16486ac-3fc7-44c0-a137-f4a1647ce49f",
   "metadata": {},
   "outputs": [
    {
     "data": {
      "text/plain": [
       "(5, 10, 425)"
      ]
     },
     "execution_count": 34,
     "metadata": {},
     "output_type": "execute_result"
    }
   ],
   "source": [
    "display_sample_sets_1.shape"
   ]
  },
  {
   "cell_type": "code",
   "execution_count": 35,
   "id": "835efbf1-a277-455a-9b37-d3ff6c3f6896",
   "metadata": {},
   "outputs": [],
   "source": [
    "def run_ISOFIT(input_reflectance: np.array) -> np.array:\n",
    "    \n",
    "    # Surface model\n",
    "    surface_model(\"C:\\\\Users\\\\vpatro\\\\Desktop\\\\isofit_vp\\\\examples\\\\20171108_Pasadena\\\\configs\\\\ang20171108t184227_surface.json\")\n",
    "\n",
    "    # Creating ISOFIT objects\n",
    "    config = create_new_config(\"C:\\\\Users\\\\vpatro\\\\Desktop\\\\isofit_vp\\\\examples\\\\20171108_Pasadena\\\\configs\\\\ang20171108t184227_beckmanlawn.json\")\n",
    "    fm = ForwardModel(config)\n",
    "    inv = Inversion(config, fm)\n",
    "    io = IO(config, fm)\n",
    "    io.get_components_at_index(0, 0)\n",
    "    geom = io.current_input_data.geom # alternately, call via geom = Geometry()...this won't have data from the above config file\n",
    "    meas = io.current_input_data.meas  # a numpy  array\n",
    "\n",
    "    # adding in Radiative Transfer Parameters\n",
    "    #x = np.loadtxt(\"C:\\\\Users\\\\vpatro\\\\Desktop\\\\avirisng_input.txt\")\n",
    "    input_reflectance = np.append(input_reflectance,1.75)\n",
    "    input_reflectance = np.append(input_reflectance,0.05)\n",
    "    \n",
    "    radiance_measurement = fm.calc_rdn(input_reflectance,geom)\n",
    "    OE_estimation = inv.invert(radiance_measurement, geom)[-1]\n",
    "    \n",
    "    return OE_estimation"
   ]
  },
  {
   "cell_type": "code",
   "execution_count": null,
   "id": "3f60ba95-38bf-4181-b0ab-aeaee6a4047b",
   "metadata": {},
   "outputs": [],
   "source": [
    "def get_residual(a:np.array, b:np.array):\n",
    "    residual = a-b\n",
    "    return residual"
   ]
  },
  {
   "cell_type": "code",
   "execution_count": 42,
   "id": "46014ae5-6dc6-45cd-9428-502def3948e3",
   "metadata": {},
   "outputs": [
    {
     "name": "stderr",
     "output_type": "stream",
     "text": [
      "ERROR:root:MODTRAN directory not defined in config file.\n"
     ]
    },
    {
     "ename": "SystemExit",
     "evalue": "MODTRAN directory not defined in config file.",
     "output_type": "error",
     "traceback": [
      "An exception has occurred, use %tb to see the full traceback.\n",
      "\u001b[1;31mSystemExit\u001b[0m\u001b[1;31m:\u001b[0m MODTRAN directory not defined in config file.\n"
     ]
    },
    {
     "name": "stderr",
     "output_type": "stream",
     "text": [
      "C:\\Users\\vpatro\\Anaconda3\\lib\\site-packages\\IPython\\core\\interactiveshell.py:3377: UserWarning: To exit: use 'exit', 'quit', or Ctrl-D.\n",
      "  warn(\"To exit: use 'exit', 'quit', or Ctrl-D.\", stacklevel=1)\n"
     ]
    }
   ],
   "source": [
    "residuals = []\n",
    "for i in range(10):\n",
    "    input_vec = display_sample_sets_1[0][i]\n",
    "    OE_estimation = run_ISOFIT(input_vec)\n",
    "    residuals.append(residuals)"
   ]
  },
  {
   "cell_type": "code",
   "execution_count": null,
   "id": "c7fdb3fb-c98d-4f73-a107-76c793ba63aa",
   "metadata": {},
   "outputs": [],
   "source": []
  }
 ],
 "metadata": {
  "kernelspec": {
   "display_name": "Python 3 (ipykernel)",
   "language": "python",
   "name": "python3"
  },
  "language_info": {
   "codemirror_mode": {
    "name": "ipython",
    "version": 3
   },
   "file_extension": ".py",
   "mimetype": "text/x-python",
   "name": "python",
   "nbconvert_exporter": "python",
   "pygments_lexer": "ipython3",
   "version": "3.9.12"
  }
 },
 "nbformat": 4,
 "nbformat_minor": 5
}
