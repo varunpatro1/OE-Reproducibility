{
 "cells": [
  {
   "cell_type": "code",
   "execution_count": 2,
   "id": "b93c4cdc-81e8-44a4-b52f-92371a712131",
   "metadata": {},
   "outputs": [],
   "source": [
    "import random\n",
    "import numpy as np\n",
    "import matplotlib.pyplot as plt"
   ]
  },
  {
   "cell_type": "code",
   "execution_count": null,
   "id": "d6165bfb-07b9-46db-acaa-fbfd2830560a",
   "metadata": {},
   "outputs": [],
   "source": []
  },
  {
   "cell_type": "code",
   "execution_count": null,
   "id": "8a9404fa-2206-43d5-b1d0-39fc9d7d9fcd",
   "metadata": {},
   "outputs": [],
   "source": [
    "sample_sets = []\n",
    "for i in range(5):\n",
    "    sample = random.sample("
   ]
  }
 ],
 "metadata": {
  "kernelspec": {
   "display_name": "Python 3 (ipykernel)",
   "language": "python",
   "name": "python3"
  },
  "language_info": {
   "codemirror_mode": {
    "name": "ipython",
    "version": 3
   },
   "file_extension": ".py",
   "mimetype": "text/x-python",
   "name": "python",
   "nbconvert_exporter": "python",
   "pygments_lexer": "ipython3",
   "version": "3.9.12"
  }
 },
 "nbformat": 4,
 "nbformat_minor": 5
}
