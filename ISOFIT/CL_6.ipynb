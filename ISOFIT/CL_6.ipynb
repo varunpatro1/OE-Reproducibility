{
 "cells": [
  {
   "cell_type": "code",
   "execution_count": 1,
   "id": "9ab6b1ee-6586-45be-9a44-c3b388f9d887",
   "metadata": {},
   "outputs": [],
   "source": [
    "import random\n",
    "from geoarray import GeoArray\n",
    "import matplotlib.pyplot as plt\n",
    "import numpy as np\n",
    "import math\n",
    "from scipy.signal import savgol_filter\n",
    "from scipy.interpolate import splev, splrep\n",
    "# importing ISOFIT\n",
    "from isofit.utils import surface_model\n",
    "from isofit.core.forward import ForwardModel\n",
    "from isofit.configs.configs import create_new_config\n",
    "from isofit.inversion.inverse import Inversion\n",
    "from isofit.core.fileio import IO\n",
    "import tkinter\n",
    "import matplotlib\n",
    "matplotlib.use('TkAgg')\n",
    "%matplotlib inline"
   ]
  },
  {
   "cell_type": "code",
   "execution_count": null,
   "id": "c61550f8-017d-4d08-b22a-cc7cc00de00b",
   "metadata": {},
   "outputs": [],
   "source": [
    "cluster = np.loadtxt(r'C:\\Users\\vpatro\\Desktop\\Final_Spectra\\425\\Cl_6.txt')"
   ]
  },
  {
   "cell_type": "code",
   "execution_count": null,
   "id": "df632663-cdd0-4512-8f1e-51a63d217cee",
   "metadata": {},
   "outputs": [],
   "source": [
    "cluster[:, 105:120] = savgol_filter(cluster[:, 105:120], 11,1, axis = 1)\n",
    "cluster[:, 140:165] = savgol_filter(cluster[:, 140:165], 21, 1, axis = 1)\n",
    "cluster[:, 398:419] = savgol_filter(cluster[:, 398:419], 11, 1, axis = 1)\n",
    "plt.plot(cluster[100000])\n",
    "plt.plot(cluster[200000])\n",
    "plt.ylim(0,0.65)"
   ]
  },
  {
   "cell_type": "code",
   "execution_count": null,
   "id": "3b22d00c-9c79-4565-8918-3a8812f4c831",
   "metadata": {},
   "outputs": [],
   "source": [
    "def sample_spectra(cluster_spectra:np.array, num_sets, num_samples):\n",
    "\n",
    "    sample_sets = []\n",
    "    \n",
    "    for i in range(num_sets):\n",
    "        sample = random.sample(range(0, cluster_spectra.shape[0]), num_samples)\n",
    "        sample_sets.append(cluster_spectra[sample])\n",
    "        \n",
    "    sample_sets = np.array(sample_sets)\n",
    "        \n",
    "    return sample_sets\n",
    "\n",
    "def add_RT_parameters(multi_set_spectra:np.array)-> np.array:\n",
    "    \n",
    "    augmented_set = []\n",
    "    \n",
    "    H2O = [1.75] * multi_set_spectra.shape[1]\n",
    "    AOT = [0.05] * multi_set_spectra.shape[1]\n",
    "    \n",
    "    H2O = np.array(H2O)[:,None]\n",
    "    AOT = np.array(AOT)[:,None]\n",
    "    \n",
    "    for i in range(multi_set_spectra.shape[0]):\n",
    "        augmented = np.concatenate((multi_set_spectra[i], AOT), axis = 1)\n",
    "        augmented = np.concatenate((augmented, H2O), axis = 1)\n",
    "        augmented_set.append(augmented)\n",
    "        \n",
    "    augmented_set = np.array(augmented_set)\n",
    "    \n",
    "    return augmented_set\n",
    "\n",
    "def run_ISOFIT(input_reflectance: np.array) -> np.array:\n",
    "    \n",
    "    # Surface model\n",
    "    surface_model(\"C:\\\\Users\\\\vpatro\\\\Desktop\\\\isofit_vp\\\\examples\\\\20171108_Pasadena\\\\configs\\\\ang20171108t184227_surface.json\")\n",
    "\n",
    "    # Creating ISOFIT objects\n",
    "    config = create_new_config(\"C:\\\\Users\\\\vpatro\\\\Desktop\\\\isofit_vp\\\\examples\\\\20171108_Pasadena\\\\configs\\\\ang20171108t184227_beckmanlawn.json\")\n",
    "    fm = ForwardModel(config)\n",
    "    inv = Inversion(config, fm)\n",
    "    io = IO(config, fm)\n",
    "    io.get_components_at_index(0, 0)\n",
    "    geom = io.current_input_data.geom # alternately, call via geom = Geometry()...this won't have data from the above config file\n",
    "    meas = io.current_input_data.meas  # a numpy  array\n",
    "\n",
    "    # adding in Radiative Transfer Parameters\n",
    "    #x = np.loadtxt(\"C:\\\\Users\\\\vpatro\\\\Desktop\\\\avirisng_input.txt\")\n",
    "    input_reflectance = np.append(input_reflectance,0.05)\n",
    "    input_reflectance = np.append(input_reflectance,1.75)\n",
    "    \n",
    "    radiance_measurement = fm.calc_rdn(input_reflectance,geom)\n",
    "    OE_estimation = inv.invert(radiance_measurement, geom)[-1]\n",
    "    \n",
    "    return OE_estimation"
   ]
  },
  {
   "cell_type": "code",
   "execution_count": null,
   "id": "6c3f4658-f0d1-4044-b9bd-6da9930e5642",
   "metadata": {},
   "outputs": [],
   "source": [
    "def remove_bad_bands(spectra: np.array):\n",
    "    bands = list(range(0,425))\n",
    "    bands = np.array(bands)\n",
    "    deeph2o = np.logical_or(np.logical_and(bands > 181, bands < 224), np.logical_and(bands > 275, bands < 329))\n",
    "    bad_cal = np.logical_or(bands > 418, bands < 3)\n",
    "    bad = np.logical_or(deeph2o, bad_cal)\n",
    "    spectra[bad] = np.nan\n",
    "    \n",
    "    return spectra"
   ]
  },
  {
   "cell_type": "code",
   "execution_count": null,
   "id": "29958baf-0e57-4162-ab0f-074ffbbe7831",
   "metadata": {},
   "outputs": [],
   "source": [
    "# Appending RT parameters\n",
    "sample_sets = sample_spectra(cluster, 5, 100)\n",
    "print(sample_sets.shape)\n",
    "augmented_sets = add_RT_parameters(sample_sets)\n",
    "print(augmented_sets.shape)"
   ]
  },
  {
   "cell_type": "code",
   "execution_count": null,
   "id": "d7250bdc-ec59-4784-8a3f-bb519d822b2f",
   "metadata": {},
   "outputs": [],
   "source": [
    "l2norms = []\n",
    "residuals = []\n",
    "inputs = []\n",
    "outputs = []"
   ]
  },
  {
   "cell_type": "code",
   "execution_count": null,
   "id": "d5cfc5e5-93ff-4ae3-8d45-7c15a6415b79",
   "metadata": {},
   "outputs": [],
   "source": [
    "for i in range(5):\n",
    "    for j in range(100):\n",
    "        input_vec = augmented_sets[i][j].copy()\n",
    "        inputs.append(input_vec)\n",
    "        OE_estimation = run_ISOFIT(input_vec)\n",
    "        outputs.append(OE_estimation)\n",
    "        l2norm = np.linalg.norm(input_vec - OE_estimation)\n",
    "        l2norms.append(l2norm)\n",
    "        residual = input_vec-OE_estimation\n",
    "        residuals.append(residual)\n"
   ]
  },
  {
   "cell_type": "code",
   "execution_count": null,
   "id": "3a92b040-412c-46f7-9726-c21ad82e8b7b",
   "metadata": {},
   "outputs": [],
   "source": [
    "fig, axs = plt.subplots(nrows = 5, ncols = 2, figsize = (24,16), constrained_layout = True)\n",
    "\n",
    "count = 0\n",
    "row = 0\n",
    "col = 0\n",
    "for i in range(0,100,10):\n",
    "    if col == 2:\n",
    "        row +=1\n",
    "        col = 0\n",
    "    cleaned_input = remove_bad_bands(inputs[i,:425].copy())\n",
    "    cleaned_output = remove_bad_bands(outputs[i][:425].copy())\n",
    "    axs[row,col].plot(cleaned_input, label = 'input')\n",
    "    axs[row,col].plot(cleaned_output, label = 'output')\n",
    "    axs[row,col].legend()\n",
    "    axs[row,col].set_ylim(0,1)\n",
    "    col+= 1"
   ]
  },
  {
   "cell_type": "code",
   "execution_count": null,
   "id": "6423fe18-19c3-4cf0-830b-9617688a0f0f",
   "metadata": {},
   "outputs": [],
   "source": [
    "fig, axs = plt.subplots(nrows = 5, ncols = 2, figsize = (24,16), constrained_layout = True)\n",
    "\n",
    "count = 0\n",
    "row = 0\n",
    "col = 0\n",
    "for i in range(0,100,10):\n",
    "    if col == 2:\n",
    "        row +=1\n",
    "        col = 0\n",
    "    cleaned_input = remove_bad_bands(inputs[i,:425].copy())\n",
    "    cleaned_output = remove_bad_bands(outputs[i][:425].copy())\n",
    "    axs[row,col].plot(cleaned_input, label = 'input')\n",
    "    axs[row,col].plot(cleaned_output, label = 'output')\n",
    "    axs[row,col].legend()\n",
    "    axs[row,col].set_ylim(0,1)\n",
    "    col+= 1"
   ]
  },
  {
   "cell_type": "code",
   "execution_count": null,
   "id": "4e6dc955-b7f0-4650-9cc0-a70fbb01f305",
   "metadata": {},
   "outputs": [],
   "source": [
    "fig, axs = plt.subplots(nrows = 5, ncols = 2, figsize = (24,16), constrained_layout = True)\n",
    "\n",
    "count = 0\n",
    "row = 0\n",
    "col = 0\n",
    "for i in range(0,100,10):\n",
    "    if col == 2:\n",
    "        row +=1\n",
    "        col = 0\n",
    "    cleaned_input = remove_bad_bands(inputs[i,:425].copy())\n",
    "    cleaned_output = remove_bad_bands(outputs[i][:425].copy())\n",
    "    axs[row,col].plot(cleaned_input, label = 'input')\n",
    "    axs[row,col].plot(cleaned_output, label = 'output')\n",
    "    axs[row,col].legend()\n",
    "    axs[row,col].set_ylim(0,1)\n",
    "    col+= 1"
   ]
  },
  {
   "cell_type": "code",
   "execution_count": null,
   "id": "ca4e5deb-d04b-410e-805b-cddae9481a2d",
   "metadata": {},
   "outputs": [],
   "source": [
    "fig, axs = plt.subplots(nrows = 5, ncols = 2, figsize = (24,16), constrained_layout = True)\n",
    "\n",
    "count = 0\n",
    "row = 0\n",
    "col = 0\n",
    "for i in range(0,100,10):\n",
    "    if col == 2:\n",
    "        row +=1\n",
    "        col = 0\n",
    "    cleaned_input = remove_bad_bands(inputs[i,:425].copy())\n",
    "    cleaned_output = remove_bad_bands(outputs[i][:425].copy())\n",
    "    axs[row,col].plot(cleaned_input, label = 'input')\n",
    "    axs[row,col].plot(cleaned_output, label = 'output')\n",
    "    axs[row,col].legend()\n",
    "    axs[row,col].set_ylim(0,1)\n",
    "    col+= 1"
   ]
  },
  {
   "cell_type": "code",
   "execution_count": null,
   "id": "fb83d80d-e356-4651-b747-c3a6cf663dc5",
   "metadata": {},
   "outputs": [],
   "source": [
    "fig, axs = plt.subplots(nrows = 5, ncols = 2, figsize = (24,16), constrained_layout = True)\n",
    "\n",
    "count = 0\n",
    "row = 0\n",
    "col = 0\n",
    "for i in range(0,100,10):\n",
    "    if col == 2:\n",
    "        row +=1\n",
    "        col = 0\n",
    "    cleaned_input = remove_bad_bands(inputs[i,:425].copy())\n",
    "    cleaned_output = remove_bad_bands(outputs[i][:425].copy())\n",
    "    axs[row,col].plot(cleaned_input, label = 'input')\n",
    "    axs[row,col].plot(cleaned_output, label = 'output')\n",
    "    axs[row,col].legend()\n",
    "    axs[row,col].set_ylim(0,1)\n",
    "    col+= 1"
   ]
  }
 ],
 "metadata": {
  "kernelspec": {
   "display_name": "Python 3 (ipykernel)",
   "language": "python",
   "name": "python3"
  },
  "language_info": {
   "codemirror_mode": {
    "name": "ipython",
    "version": 3
   },
   "file_extension": ".py",
   "mimetype": "text/x-python",
   "name": "python",
   "nbconvert_exporter": "python",
   "pygments_lexer": "ipython3",
   "version": "3.9.12"
  }
 },
 "nbformat": 4,
 "nbformat_minor": 5
}
