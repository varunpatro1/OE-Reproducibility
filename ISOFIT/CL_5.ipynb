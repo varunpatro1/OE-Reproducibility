{
 "cells": [
  {
   "cell_type": "code",
   "execution_count": 1,
   "id": "ce59ee2f-d511-4a84-8c40-275a8a9fa858",
   "metadata": {},
   "outputs": [],
   "source": [
    "import random\n",
    "from geoarray import GeoArray\n",
    "import matplotlib.pyplot as plt\n",
    "import numpy as np\n",
    "import math\n",
    "from scipy.signal import savgol_filter\n",
    "from scipy.interpolate import splev, splrep\n",
    "# importing ISOFIT\n",
    "from isofit.utils import surface_model\n",
    "from isofit.core.forward import ForwardModel\n",
    "from isofit.configs.configs import create_new_config\n",
    "from isofit.inversion.inverse import Inversion\n",
    "from isofit.core.fileio import IO\n",
    "import tkinter\n",
    "import matplotlib\n",
    "matplotlib.use('TkAgg')\n",
    "%matplotlib inline"
   ]
  },
  {
   "cell_type": "code",
   "execution_count": 16,
   "id": "b552a938-38ca-4271-bc6f-846ab7eb03c1",
   "metadata": {},
   "outputs": [],
   "source": [
    "from utils import *"
   ]
  },
  {
   "cell_type": "code",
   "execution_count": 17,
   "id": "522de989-6498-40da-894a-8b435fec3717",
   "metadata": {},
   "outputs": [
    {
     "name": "stdout",
     "output_type": "stream",
     "text": [
      "Import working\n"
     ]
    }
   ],
   "source": [
    "displayText()"
   ]
  },
  {
   "cell_type": "code",
   "execution_count": 2,
   "id": "c574e114-cf4e-424b-aac6-1c2aee1bbfb8",
   "metadata": {},
   "outputs": [],
   "source": [
    "cluster = np.loadtxt(r'C:\\Users\\vpatro\\Desktop\\Final_Spectra\\425\\Cl_5.txt')"
   ]
  },
  {
   "cell_type": "code",
   "execution_count": 80,
   "id": "aeb57480-ed22-40a3-aad7-5830f5b9d500",
   "metadata": {},
   "outputs": [
    {
     "data": {
      "text/plain": [
       "(504178, 425)"
      ]
     },
     "execution_count": 80,
     "metadata": {},
     "output_type": "execute_result"
    }
   ],
   "source": [
    "cluster.shape"
   ]
  },
  {
   "cell_type": "code",
   "execution_count": 81,
   "id": "8f6302cc-4b53-4580-8eb2-d88f299e1982",
   "metadata": {},
   "outputs": [
    {
     "data": {
      "text/plain": [
       "(0.0, 0.65)"
      ]
     },
     "execution_count": 81,
     "metadata": {},
     "output_type": "execute_result"
    },
    {
     "data": {
      "image/png": "[encoded data removed]",
      "text/plain": [
       "<Figure size 432x288 with 1 Axes>"
      ]
     },
     "metadata": {
      "needs_background": "light"
     },
     "output_type": "display_data"
    }
   ],
   "source": [
    "cluster[:, 105:120] = savgol_filter(cluster[:, 105:120], 11,1, axis = 1)\n",
    "cluster[:, 140:165] = savgol_filter(cluster[:, 140:165], 21, 1, axis = 1)\n",
    "cluster[:, 398:419] = savgol_filter(cluster[:, 398:419], 11, 1, axis = 1)\n",
    "plt.plot(cluster[100000])\n",
    "plt.plot(cluster[200000])\n",
    "plt.ylim(0,0.65)"
   ]
  },
  {
   "cell_type": "code",
   "execution_count": 82,
   "id": "1596f9fa-33a3-4104-b406-af31e0fa2638",
   "metadata": {},
   "outputs": [],
   "source": [
    "def sample_spectra(cluster_spectra:np.array, num_sets, num_samples):\n",
    "\n",
    "    sample_sets = []\n",
    "    \n",
    "    for i in range(num_sets):\n",
    "        sample = random.sample(range(0, cluster_spectra.shape[0]), num_samples)\n",
    "        sample_sets.append(cluster_spectra[sample])\n",
    "        \n",
    "    sample_sets = np.array(sample_sets)\n",
    "        \n",
    "    return sample_sets\n",
    "\n",
    "def add_RT_parameters(multi_set_spectra:np.array)-> np.array:\n",
    "    \n",
    "    augmented_set = []\n",
    "    \n",
    "    H2O = [1.75] * multi_set_spectra.shape[1]\n",
    "    AOT = [0.05] * multi_set_spectra.shape[1]\n",
    "    \n",
    "    H2O = np.array(H2O)[:,None]\n",
    "    AOT = np.array(AOT)[:,None]\n",
    "    \n",
    "    for i in range(multi_set_spectra.shape[0]):\n",
    "        augmented = np.concatenate((multi_set_spectra[i], AOT), axis = 1)\n",
    "        augmented = np.concatenate((augmented, H2O), axis = 1)\n",
    "        augmented_set.append(augmented)\n",
    "        \n",
    "    augmented_set = np.array(augmented_set)\n",
    "    \n",
    "    return augmented_set\n",
    "\n",
    "def run_ISOFIT(input_reflectance: np.array) -> np.array:\n",
    "    \n",
    "    # Surface model\n",
    "    surface_model(\"C:\\\\Users\\\\vpatro\\\\Desktop\\\\isofit_vp\\\\examples\\\\20171108_Pasadena\\\\configs\\\\ang20171108t184227_surface.json\")\n",
    "\n",
    "    # Creating ISOFIT objects\n",
    "    config = create_new_config(\"C:\\\\Users\\\\vpatro\\\\Desktop\\\\isofit_vp\\\\examples\\\\20171108_Pasadena\\\\configs\\\\ang20171108t184227_beckmanlawn.json\")\n",
    "    fm = ForwardModel(config)\n",
    "    inv = Inversion(config, fm)\n",
    "    io = IO(config, fm)\n",
    "    io.get_components_at_index(0, 0)\n",
    "    geom = io.current_input_data.geom # alternately, call via geom = Geometry()...this won't have data from the above config file\n",
    "    meas = io.current_input_data.meas  # a numpy  array\n",
    "\n",
    "    # adding in Radiative Transfer Parameters\n",
    "    #x = np.loadtxt(\"C:\\\\Users\\\\vpatro\\\\Desktop\\\\avirisng_input.txt\")\n",
    "    input_reflectance = np.append(input_reflectance,0.05)\n",
    "    input_reflectance = np.append(input_reflectance,1.75)\n",
    "    \n",
    "    radiance_measurement = fm.calc_rdn(input_reflectance,geom)\n",
    "    OE_estimation = inv.invert(radiance_measurement, geom)[-1]\n",
    "    \n",
    "    return OE_estimation"
   ]
  },
  {
   "cell_type": "code",
   "execution_count": 83,
   "id": "efa6e489-ea90-4d32-9434-8e5b3c1b6ce3",
   "metadata": {},
   "outputs": [],
   "source": [
    "def remove_bad_bands(spectra: np.array):\n",
    "    bands = list(range(0,425))\n",
    "    bands = np.array(bands)\n",
    "    deeph2o = np.logical_or(np.logical_and(bands > 181, bands < 224), np.logical_and(bands > 275, bands < 329))\n",
    "    bad_cal = np.logical_or(bands > 418, bands < 3)\n",
    "    bad = np.logical_or(deeph2o, bad_cal)\n",
    "    spectra[bad] = np.nan\n",
    "    \n",
    "    return spectra"
   ]
  },
  {
   "cell_type": "code",
   "execution_count": 84,
   "id": "7f8de001-5429-48d3-8e25-069d48f028ca",
   "metadata": {},
   "outputs": [
    {
     "name": "stdout",
     "output_type": "stream",
     "text": [
      "(5, 100, 425)\n",
      "(5, 100, 427)\n"
     ]
    }
   ],
   "source": [
    "# Appending RT parameters\n",
    "sample_sets = sample_spectra(cluster, 5, 100)\n",
    "print(sample_sets.shape)\n",
    "augmented_sets = add_RT_parameters(sample_sets)\n",
    "print(augmented_sets.shape)"
   ]
  },
  {
   "cell_type": "code",
   "execution_count": 85,
   "id": "9cd47c2d-133f-49f5-ac73-b5d5b46587fe",
   "metadata": {},
   "outputs": [],
   "source": [
    "l2norms = []\n",
    "residuals = []\n",
    "inputs = []\n",
    "outputs = []"
   ]
  },
  {
   "cell_type": "code",
   "execution_count": 77,
   "id": "75208d71-df35-496d-bfe5-05e9d9523a22",
   "metadata": {},
   "outputs": [
    {
     "ename": "KeyboardInterrupt",
     "evalue": "",
     "output_type": "error",
     "traceback": [
      "\u001b[1;31m---------------------------------------------------------------------------\u001b[0m",
      "\u001b[1;31mKeyboardInterrupt\u001b[0m                         Traceback (most recent call last)",
      "Input \u001b[1;32mIn [77]\u001b[0m, in \u001b[0;36m<cell line: 1>\u001b[1;34m()\u001b[0m\n\u001b[0;32m      3\u001b[0m input_vec \u001b[38;5;241m=\u001b[39m augmented_sets[i][j]\u001b[38;5;241m.\u001b[39mcopy()\n\u001b[0;32m      4\u001b[0m inputs\u001b[38;5;241m.\u001b[39mappend(input_vec)\n\u001b[1;32m----> 5\u001b[0m OE_estimation \u001b[38;5;241m=\u001b[39m \u001b[43mrun_ISOFIT\u001b[49m\u001b[43m(\u001b[49m\u001b[43minput_vec\u001b[49m\u001b[43m)\u001b[49m\n\u001b[0;32m      6\u001b[0m outputs\u001b[38;5;241m.\u001b[39mappend(OE_estimation)\n\u001b[0;32m      7\u001b[0m l2norm \u001b[38;5;241m=\u001b[39m np\u001b[38;5;241m.\u001b[39mlinalg\u001b[38;5;241m.\u001b[39mnorm(input_vec \u001b[38;5;241m-\u001b[39m OE_estimation)\n",
      "Input \u001b[1;32mIn [73]\u001b[0m, in \u001b[0;36mrun_ISOFIT\u001b[1;34m(input_reflectance)\u001b[0m\n\u001b[0;32m     37\u001b[0m \u001b[38;5;66;03m# Creating ISOFIT objects\u001b[39;00m\n\u001b[0;32m     38\u001b[0m config \u001b[38;5;241m=\u001b[39m create_new_config(\u001b[38;5;124m\"\u001b[39m\u001b[38;5;124mC:\u001b[39m\u001b[38;5;130;01m\\\\\u001b[39;00m\u001b[38;5;124mUsers\u001b[39m\u001b[38;5;130;01m\\\\\u001b[39;00m\u001b[38;5;124mvpatro\u001b[39m\u001b[38;5;130;01m\\\\\u001b[39;00m\u001b[38;5;124mDesktop\u001b[39m\u001b[38;5;130;01m\\\\\u001b[39;00m\u001b[38;5;124misofit_vp\u001b[39m\u001b[38;5;130;01m\\\\\u001b[39;00m\u001b[38;5;124mexamples\u001b[39m\u001b[38;5;130;01m\\\\\u001b[39;00m\u001b[38;5;124m20171108_Pasadena\u001b[39m\u001b[38;5;130;01m\\\\\u001b[39;00m\u001b[38;5;124mconfigs\u001b[39m\u001b[38;5;130;01m\\\\\u001b[39;00m\u001b[38;5;124mang20171108t184227_beckmanlawn.json\u001b[39m\u001b[38;5;124m\"\u001b[39m)\n\u001b[1;32m---> 39\u001b[0m fm \u001b[38;5;241m=\u001b[39m \u001b[43mForwardModel\u001b[49m\u001b[43m(\u001b[49m\u001b[43mconfig\u001b[49m\u001b[43m)\u001b[49m\n\u001b[0;32m     40\u001b[0m inv \u001b[38;5;241m=\u001b[39m Inversion(config, fm)\n\u001b[0;32m     41\u001b[0m io \u001b[38;5;241m=\u001b[39m IO(config, fm)\n",
      "File \u001b[1;32mc:\\users\\vpatro\\desktop\\isofit_vp\\isofit\\core\\forward.py:83\u001b[0m, in \u001b[0;36mForwardModel.__init__\u001b[1;34m(self, full_config)\u001b[0m\n\u001b[0;32m     81\u001b[0m     \u001b[38;5;28mself\u001b[39m\u001b[38;5;241m.\u001b[39msurface \u001b[38;5;241m=\u001b[39m Surface(\u001b[38;5;28mself\u001b[39m\u001b[38;5;241m.\u001b[39mfull_config)\n\u001b[0;32m     82\u001b[0m \u001b[38;5;28;01melif\u001b[39;00m \u001b[38;5;28mself\u001b[39m\u001b[38;5;241m.\u001b[39mconfig\u001b[38;5;241m.\u001b[39msurface\u001b[38;5;241m.\u001b[39msurface_category \u001b[38;5;241m==\u001b[39m \u001b[38;5;124m'\u001b[39m\u001b[38;5;124mmulticomponent_surface\u001b[39m\u001b[38;5;124m'\u001b[39m:\n\u001b[1;32m---> 83\u001b[0m     \u001b[38;5;28mself\u001b[39m\u001b[38;5;241m.\u001b[39msurface \u001b[38;5;241m=\u001b[39m \u001b[43mMultiComponentSurface\u001b[49m\u001b[43m(\u001b[49m\u001b[38;5;28;43mself\u001b[39;49m\u001b[38;5;241;43m.\u001b[39;49m\u001b[43mfull_config\u001b[49m\u001b[43m)\u001b[49m\n\u001b[0;32m     84\u001b[0m \u001b[38;5;28;01melif\u001b[39;00m \u001b[38;5;28mself\u001b[39m\u001b[38;5;241m.\u001b[39mconfig\u001b[38;5;241m.\u001b[39msurface\u001b[38;5;241m.\u001b[39msurface_category \u001b[38;5;241m==\u001b[39m \u001b[38;5;124m'\u001b[39m\u001b[38;5;124mglint_surface\u001b[39m\u001b[38;5;124m'\u001b[39m:\n\u001b[0;32m     85\u001b[0m     \u001b[38;5;28mself\u001b[39m\u001b[38;5;241m.\u001b[39msurface \u001b[38;5;241m=\u001b[39m GlintSurface(\u001b[38;5;28mself\u001b[39m\u001b[38;5;241m.\u001b[39mfull_config)\n",
      "File \u001b[1;32mc:\\users\\vpatro\\desktop\\isofit_vp\\isofit\\surface\\surface_multicomp.py:105\u001b[0m, in \u001b[0;36mMultiComponentSurface.__init__\u001b[1;34m(self, full_config)\u001b[0m\n\u001b[0;32m    102\u001b[0m     Cov \u001b[38;5;241m=\u001b[39m \u001b[38;5;28mself\u001b[39m\u001b[38;5;241m.\u001b[39mcomponents[i][\u001b[38;5;241m1\u001b[39m] \u001b[38;5;66;03m# storing all 8 425 by 425 covariance matrices\u001b[39;00m\n\u001b[0;32m    103\u001b[0m     \u001b[38;5;28mself\u001b[39m\u001b[38;5;241m.\u001b[39mCovs\u001b[38;5;241m.\u001b[39mappend(np\u001b[38;5;241m.\u001b[39marray([Cov[j, \u001b[38;5;28mself\u001b[39m\u001b[38;5;241m.\u001b[39midx_ref] \u001b[38;5;66;03m# (299, 299)\u001b[39;00m\n\u001b[0;32m    104\u001b[0m                                \u001b[38;5;28;01mfor\u001b[39;00m j \u001b[38;5;129;01min\u001b[39;00m \u001b[38;5;28mself\u001b[39m\u001b[38;5;241m.\u001b[39midx_ref])) \n\u001b[1;32m--> 105\u001b[0m     \u001b[38;5;28mself\u001b[39m\u001b[38;5;241m.\u001b[39mCinvs\u001b[38;5;241m.\u001b[39mappend(\u001b[43msvd_inv\u001b[49m\u001b[43m(\u001b[49m\u001b[38;5;28;43mself\u001b[39;49m\u001b[38;5;241;43m.\u001b[39;49m\u001b[43mCovs\u001b[49m\u001b[43m[\u001b[49m\u001b[38;5;241;43m-\u001b[39;49m\u001b[38;5;241;43m1\u001b[39;49m\u001b[43m]\u001b[49m\u001b[43m)\u001b[49m) \u001b[38;5;66;03m# (299, 299)\u001b[39;00m\n\u001b[0;32m    106\u001b[0m     \u001b[38;5;28mself\u001b[39m\u001b[38;5;241m.\u001b[39mmus\u001b[38;5;241m.\u001b[39mappend(\u001b[38;5;28mself\u001b[39m\u001b[38;5;241m.\u001b[39mcomponents[i][\u001b[38;5;241m0\u001b[39m][\u001b[38;5;28mself\u001b[39m\u001b[38;5;241m.\u001b[39midx_ref]) \u001b[38;5;66;03m# (299,)\u001b[39;00m\n\u001b[0;32m    108\u001b[0m \u001b[38;5;66;03m#print('shape of arrays within self.Covs:', (self.Covs[0]).shape)\u001b[39;00m\n\u001b[0;32m    109\u001b[0m \u001b[38;5;66;03m#print('shape of arrays within self.Cinvs:', (self.Cinvs[0]).shape)\u001b[39;00m\n\u001b[0;32m    110\u001b[0m \u001b[38;5;66;03m#print('shpe of array within mu:', self.mus[0].shape)\u001b[39;00m\n\u001b[0;32m    111\u001b[0m \n\u001b[0;32m    112\u001b[0m \u001b[38;5;66;03m# Variables retrieved: each channel maps to a reflectance model parameter\u001b[39;00m\n",
      "File \u001b[1;32mc:\\users\\vpatro\\desktop\\isofit_vp\\isofit\\core\\common.py:232\u001b[0m, in \u001b[0;36msvd_inv\u001b[1;34m(C, hashtable, max_hash_size)\u001b[0m\n\u001b[0;32m    219\u001b[0m \u001b[38;5;28;01mdef\u001b[39;00m \u001b[38;5;21msvd_inv\u001b[39m(C: np\u001b[38;5;241m.\u001b[39marray, hashtable: OrderedDict \u001b[38;5;241m=\u001b[39m \u001b[38;5;28;01mNone\u001b[39;00m, max_hash_size: \u001b[38;5;28mint\u001b[39m \u001b[38;5;241m=\u001b[39m \u001b[38;5;28;01mNone\u001b[39;00m):\n\u001b[0;32m    220\u001b[0m     \u001b[38;5;124;03m\"\"\"Matrix inversion, based on decomposition.  Built to be stable, and positive.\u001b[39;00m\n\u001b[0;32m    221\u001b[0m \n\u001b[0;32m    222\u001b[0m \u001b[38;5;124;03m    Args:\u001b[39;00m\n\u001b[1;32m   (...)\u001b[0m\n\u001b[0;32m    229\u001b[0m \n\u001b[0;32m    230\u001b[0m \u001b[38;5;124;03m    \"\"\"\u001b[39;00m\n\u001b[1;32m--> 232\u001b[0m     \u001b[38;5;28;01mreturn\u001b[39;00m \u001b[43msvd_inv_sqrt\u001b[49m\u001b[43m(\u001b[49m\u001b[43mC\u001b[49m\u001b[43m,\u001b[49m\u001b[43m \u001b[49m\u001b[43mhashtable\u001b[49m\u001b[43m,\u001b[49m\u001b[43m \u001b[49m\u001b[43mmax_hash_size\u001b[49m\u001b[43m)\u001b[49m[\u001b[38;5;241m0\u001b[39m]\n",
      "File \u001b[1;32mc:\\users\\vpatro\\desktop\\isofit_vp\\isofit\\core\\common.py:275\u001b[0m, in \u001b[0;36msvd_inv_sqrt\u001b[1;34m(C, hashtable, max_hash_size)\u001b[0m\n\u001b[0;32m    273\u001b[0m Ds \u001b[38;5;241m=\u001b[39m np\u001b[38;5;241m.\u001b[39mdiag(\u001b[38;5;241m1\u001b[39m\u001b[38;5;241m/\u001b[39mnp\u001b[38;5;241m.\u001b[39msqrt(D))\n\u001b[0;32m    274\u001b[0m L \u001b[38;5;241m=\u001b[39m P\u001b[38;5;129m@Ds\u001b[39m\n\u001b[1;32m--> 275\u001b[0m Cinv_sqrt \u001b[38;5;241m=\u001b[39m \u001b[43mL\u001b[49m\u001b[38;5;129;43m@P\u001b[39;49m\u001b[38;5;241;43m.\u001b[39;49m\u001b[43mT\u001b[49m\n\u001b[0;32m    276\u001b[0m Cinv \u001b[38;5;241m=\u001b[39m L\u001b[38;5;129m@L\u001b[39m\u001b[38;5;241m.\u001b[39mT\n\u001b[0;32m    278\u001b[0m \u001b[38;5;66;03m# If there is a hash table, cache our solution.  Bound the total cache\u001b[39;00m\n\u001b[0;32m    279\u001b[0m \u001b[38;5;66;03m# size by removing any extra items in FIFO order.\u001b[39;00m\n",
      "\u001b[1;31mKeyboardInterrupt\u001b[0m: "
     ]
    }
   ],
   "source": [
    "for i in range(5):\n",
    "    for j in range(100):\n",
    "        input_vec = augmented_sets[i][j].copy()\n",
    "        inputs.append(input_vec)\n",
    "        OE_estimation = run_ISOFIT(input_vec)\n",
    "        outputs.append(OE_estimation)\n",
    "        l2norm = np.linalg.norm(input_vec - OE_estimation)\n",
    "        l2norms.append(l2norm)\n",
    "        residual = input_vec-OE_estimation\n",
    "        residuals.append(residual)\n"
   ]
  },
  {
   "cell_type": "code",
   "execution_count": null,
   "id": "fe37878d-d2af-49fb-badc-3d6064787f03",
   "metadata": {},
   "outputs": [],
   "source": [
    "fig, axs = plt.subplots(nrows = 5, ncols = 2, figsize = (24,16), constrained_layout = True)\n",
    "\n",
    "count = 0\n",
    "row = 0\n",
    "col = 0\n",
    "for i in range(0,100,10):\n",
    "    if col == 2:\n",
    "        row +=1\n",
    "        col = 0\n",
    "    cleaned_input = remove_bad_bands(inputs[i,:425].copy())\n",
    "    cleaned_output = remove_bad_bands(outputs[i][:425].copy())\n",
    "    axs[row,col].plot(cleaned_input, label = 'input')\n",
    "    axs[row,col].plot(cleaned_output, label = 'output')\n",
    "    axs[row,col].legend()\n",
    "    axs[row,col].set_ylim(0,1)\n",
    "    col+= 1"
   ]
  },
  {
   "cell_type": "code",
   "execution_count": null,
   "id": "2109c014-9fa9-4b48-9af1-26b4d946bc92",
   "metadata": {},
   "outputs": [],
   "source": [
    "fig, axs = plt.subplots(nrows = 5, ncols = 2, figsize = (24,16), constrained_layout = True)\n",
    "\n",
    "count = 0\n",
    "row = 0\n",
    "col = 0\n",
    "for i in range(100,200,10):\n",
    "    if col == 2:\n",
    "        row +=1\n",
    "        col = 0\n",
    "    cleaned_input = remove_bad_bands(inputs[i,:425].copy())\n",
    "    cleaned_output = remove_bad_bands(outputs[i][:425].copy())\n",
    "    axs[row,col].plot(cleaned_input, label = 'input')\n",
    "    axs[row,col].plot(cleaned_output, label = 'output')\n",
    "    axs[row,col].legend()\n",
    "    axs[row,col].set_ylim(0,1)\n",
    "    col+= 1"
   ]
  },
  {
   "cell_type": "code",
   "execution_count": null,
   "id": "0ef98646-9eb8-4f70-9f42-05877073e1a7",
   "metadata": {},
   "outputs": [],
   "source": [
    "fig, axs = plt.subplots(nrows = 5, ncols = 2, figsize = (24,16), constrained_layout = True)\n",
    "\n",
    "count = 0\n",
    "row = 0\n",
    "col = 0\n",
    "for i in range(200,300,10):\n",
    "    if col == 2:\n",
    "        row +=1\n",
    "        col = 0\n",
    "    cleaned_input = remove_bad_bands(inputs[i,:425].copy())\n",
    "    cleaned_output = remove_bad_bands(outputs[i][:425].copy())\n",
    "    axs[row,col].plot(cleaned_input, label = 'input')\n",
    "    axs[row,col].plot(cleaned_output, label = 'output')\n",
    "    axs[row,col].legend()\n",
    "    axs[row,col].set_ylim(0,1)\n",
    "    col+= 1"
   ]
  },
  {
   "cell_type": "code",
   "execution_count": null,
   "id": "21272bcb-a85b-4804-8ce9-99f53eb7e5fd",
   "metadata": {},
   "outputs": [],
   "source": [
    "fig, axs = plt.subplots(nrows = 5, ncols = 2, figsize = (24,16), constrained_layout = True)\n",
    "\n",
    "count = 0\n",
    "row = 0\n",
    "col = 0\n",
    "for i in range(300,400,10):\n",
    "    if col == 2:\n",
    "        row +=1\n",
    "        col = 0\n",
    "    cleaned_input = remove_bad_bands(inputs[i,:425].copy())\n",
    "    cleaned_output = remove_bad_bands(outputs[i][:425].copy())\n",
    "    axs[row,col].plot(cleaned_input, label = 'input')\n",
    "    axs[row,col].plot(cleaned_output, label = 'output')\n",
    "    axs[row,col].legend()\n",
    "    axs[row,col].set_ylim(0,1)\n",
    "    col+= 1"
   ]
  },
  {
   "cell_type": "code",
   "execution_count": null,
   "id": "fd6529f8-b195-46b4-b5bc-b679cba321df",
   "metadata": {},
   "outputs": [],
   "source": [
    "fig, axs = plt.subplots(nrows = 5, ncols = 2, figsize = (24,16), constrained_layout = True)\n",
    "\n",
    "count = 0\n",
    "row = 0\n",
    "col = 0\n",
    "for i in range(400,500,10):\n",
    "    if col == 2:\n",
    "        row +=1\n",
    "        col = 0\n",
    "    cleaned_input = remove_bad_bands(inputs[i,:425].copy())\n",
    "    cleaned_output = remove_bad_bands(outputs[i][:425].copy())\n",
    "    axs[row,col].plot(cleaned_input, label = 'input')\n",
    "    axs[row,col].plot(cleaned_output, label = 'output')\n",
    "    axs[row,col].legend()\n",
    "    axs[row,col].set_ylim(0,1)\n",
    "    col+= 1"
   ]
  },
  {
   "cell_type": "code",
   "execution_count": 71,
   "id": "fe0b721e-e088-4bb6-8f99-19f64cb35d1f",
   "metadata": {},
   "outputs": [
    {
     "data": {
      "text/plain": [
       "Text(0.5, 1.0, 'Covariance of Residuals')"
      ]
     },
     "execution_count": 71,
     "metadata": {},
     "output_type": "execute_result"
    },
    {
     "data": {
      "image/png": "[encoded data removed]",
      "text/plain": [
       "<Figure size 432x288 with 2 Axes>"
      ]
     },
     "metadata": {
      "needs_background": "light"
     },
     "output_type": "display_data"
    }
   ],
   "source": [
    "residuals = np.array(residuals)\n",
    "res_cov = residuals[:,:425].copy()\n",
    "bands = list(range(0,425))\n",
    "bands = np.array(bands)\n",
    "deeph2o = np.logical_or(np.logical_and(bands > 181, bands < 224), np.logical_and(bands > 275, bands < 329))\n",
    "bad_cal = np.logical_or(bands < 4, bands > 418)\n",
    "bad = np.logical_or(deeph2o, bad_cal)\n",
    "res_cov[:, bad] = 0\n",
    "\n",
    "Cov = np.cov(res_cov, rowvar=False)\n",
    "\n",
    "plt.imshow(Cov)\n",
    "plt.colorbar()\n",
    "plt.clim(0,0.000005)\n",
    "plt.title('Covariance of Residuals')"
   ]
  },
  {
   "cell_type": "markdown",
   "id": "aea088f8-5d28-48eb-895d-4764b907dcbd",
   "metadata": {},
   "source": [
    "Plot residuals plt.plot"
   ]
  },
  {
   "cell_type": "code",
   "execution_count": 63,
   "id": "ff48fc09-b00c-4dd2-96f7-a8b6fa9a42b5",
   "metadata": {},
   "outputs": [
    {
     "data": {
      "text/plain": [
       "array([ 0.00000000e+00,  0.00000000e+00,  0.00000000e+00,  0.00000000e+00,\n",
       "        2.60616938e-02,  2.87324506e-02,  2.49883810e-02,  2.20646186e-02,\n",
       "        2.20899961e-02,  2.03401988e-02,  1.56237079e-02,  1.44704851e-02,\n",
       "        1.24972565e-02,  1.14958625e-02,  1.15478633e-02,  1.08999737e-02,\n",
       "        9.03689202e-03,  9.13114452e-03,  9.57112313e-03,  7.99341493e-03,\n",
       "        1.07018240e-02,  1.05186214e-02,  1.08531206e-02,  9.11081833e-03,\n",
       "        9.23375545e-03,  9.01496616e-03,  7.17746046e-03,  6.98564982e-03,\n",
       "        8.73947460e-03,  6.41904948e-03,  6.09741857e-03,  5.75290204e-03,\n",
       "        4.94576663e-03,  3.02833365e-03,  3.31193748e-03,  4.38329256e-03,\n",
       "        3.49139239e-03,  3.21985656e-03,  3.80710336e-03,  4.32817403e-03,\n",
       "        4.98748095e-03,  6.36186588e-03,  7.46955432e-03,  6.90119309e-03,\n",
       "        4.64125951e-03,  3.14883090e-03,  2.68091572e-03,  4.26719042e-03,\n",
       "        3.97176369e-03,  4.19255348e-03,  3.72364351e-03,  4.15727619e-03,\n",
       "        4.40397770e-03,  4.64176449e-03,  5.00143153e-03,  4.55824081e-03,\n",
       "        4.12363967e-03,  4.29615850e-03,  3.10029959e-03,  2.98544113e-03,\n",
       "        2.73233662e-03,  4.13624660e-03,  6.33758266e-03,  5.47625258e-03,\n",
       "        5.60716096e-03,  4.71858011e-03,  4.25658992e-03,  4.47664753e-03,\n",
       "        4.89991387e-03,  9.68966834e-04,  1.22552302e-03, -2.74964030e-04,\n",
       "        1.20668403e-03,  1.81755162e-03,  2.07952810e-03,  2.21819088e-03,\n",
       "        5.27031599e-03,  2.29387732e-03, -3.28746404e-04,  1.97600162e-03,\n",
       "        2.59176508e-03,  2.98733997e-03,  2.89237080e-03,  2.64229006e-03,\n",
       "        2.48187547e-03,  2.48235501e-03,  2.45035928e-03,  2.78842314e-03,\n",
       "        1.49562369e-03,  1.04152221e-03, -7.64205775e-05, -6.34929099e-04,\n",
       "       -3.37723452e-04,  1.29969936e-04,  9.28677073e-04,  1.12831584e-03,\n",
       "        3.89233884e-04,  9.04577789e-04,  3.17884881e-04, -2.59489279e-04,\n",
       "       -2.35412361e-04, -1.01423636e-03, -7.24191246e-04, -6.31659917e-04,\n",
       "       -8.47526448e-04, -1.88078758e-03, -5.29581781e-04, -2.53799932e-03,\n",
       "       -3.58400445e-03, -1.99912154e-03,  1.66200181e-03,  1.19272925e-02,\n",
       "       -6.27458900e-04, -1.36293969e-03, -2.71949602e-04,  5.66925312e-04,\n",
       "       -3.06381337e-03, -6.60952843e-03, -3.47146927e-03, -2.19235238e-03,\n",
       "       -1.61983355e-03, -2.96781494e-03, -2.48476538e-03, -1.51321965e-03,\n",
       "       -5.28694409e-04, -5.19831798e-04, -1.08230431e-03, -6.54957220e-04,\n",
       "       -2.97263357e-04, -3.38234586e-04, -4.28828084e-04, -2.42303857e-04,\n",
       "       -7.27613162e-04,  1.65306949e-05, -2.36586177e-04, -7.58322138e-04,\n",
       "       -6.42003544e-04, -1.68034550e-03, -1.45460783e-03, -1.23645625e-03,\n",
       "       -1.41215358e-03, -1.20339245e-03, -1.14466158e-03, -1.71033676e-03,\n",
       "       -1.24574695e-03, -2.13698189e-03, -3.00100050e-03, -2.87840207e-03,\n",
       "        1.08198607e-02,  3.08408741e-02,  7.50051748e-03, -4.25146117e-03,\n",
       "       -1.43977433e-02, -5.11994123e-03,  8.52434812e-04, -6.29042785e-03,\n",
       "       -7.47335196e-03, -7.12228328e-03, -4.71198393e-03, -4.19065590e-03,\n",
       "       -1.75643857e-03, -1.64847683e-03, -2.02956076e-03, -2.12468114e-03,\n",
       "       -1.02137954e-04, -1.65759332e-03, -1.45177373e-03, -2.45734145e-03,\n",
       "       -1.64470914e-03, -1.26758542e-03, -1.16067046e-03, -1.73630804e-03,\n",
       "       -1.00775882e-03, -5.62592697e-04, -1.33114820e-03, -1.64184159e-03,\n",
       "       -2.59726658e-03, -2.61104055e-03, -3.57206233e-03, -2.13413307e-03,\n",
       "       -2.35003839e-03, -2.38396878e-03,  0.00000000e+00,  0.00000000e+00,\n",
       "        0.00000000e+00,  0.00000000e+00,  0.00000000e+00,  0.00000000e+00,\n",
       "        0.00000000e+00,  0.00000000e+00,  0.00000000e+00,  0.00000000e+00,\n",
       "        0.00000000e+00,  0.00000000e+00,  0.00000000e+00,  0.00000000e+00,\n",
       "        0.00000000e+00,  0.00000000e+00,  0.00000000e+00,  0.00000000e+00,\n",
       "        0.00000000e+00,  0.00000000e+00,  0.00000000e+00,  0.00000000e+00,\n",
       "        0.00000000e+00,  0.00000000e+00,  0.00000000e+00,  0.00000000e+00,\n",
       "        0.00000000e+00,  0.00000000e+00,  0.00000000e+00,  0.00000000e+00,\n",
       "        0.00000000e+00,  0.00000000e+00,  0.00000000e+00,  0.00000000e+00,\n",
       "        0.00000000e+00,  0.00000000e+00,  0.00000000e+00,  0.00000000e+00,\n",
       "        0.00000000e+00,  0.00000000e+00,  0.00000000e+00,  0.00000000e+00,\n",
       "       -2.11931103e-03,  3.29898397e-04, -7.53038530e-04,  6.55695773e-04,\n",
       "        9.54283258e-04,  1.00922862e-03,  7.92243556e-04,  1.56082122e-03,\n",
       "        2.17160244e-03,  8.43054146e-04,  8.03959812e-04,  2.46850771e-04,\n",
       "       -1.84513642e-04, -9.40210963e-05, -9.03749524e-04, -1.63496342e-03,\n",
       "       -1.68583149e-03, -1.94563497e-03, -1.43378818e-03, -1.55534088e-03,\n",
       "       -1.73852852e-03, -2.55041758e-03, -2.99490012e-03, -3.14370296e-03,\n",
       "       -2.82056686e-03, -2.34166840e-03, -2.20622238e-03, -2.57992464e-03,\n",
       "       -2.46836709e-03, -2.58572219e-03, -3.16866025e-03, -3.40222490e-03,\n",
       "       -2.63867977e-03, -1.75958244e-03, -1.97662822e-03, -1.15372765e-03,\n",
       "       -3.33582545e-04, -1.11640986e-03, -1.76144481e-03, -2.18539659e-03,\n",
       "       -2.72478712e-03, -1.55270813e-03, -1.63933931e-03, -1.65767329e-03,\n",
       "       -1.59259749e-03, -1.80807023e-03, -1.72091940e-03, -1.84068691e-03,\n",
       "       -1.97680055e-03, -2.01038203e-03, -2.04681644e-03, -2.15876388e-03,\n",
       "        0.00000000e+00,  0.00000000e+00,  0.00000000e+00,  0.00000000e+00,\n",
       "        0.00000000e+00,  0.00000000e+00,  0.00000000e+00,  0.00000000e+00,\n",
       "        0.00000000e+00,  0.00000000e+00,  0.00000000e+00,  0.00000000e+00,\n",
       "        0.00000000e+00,  0.00000000e+00,  0.00000000e+00,  0.00000000e+00,\n",
       "        0.00000000e+00,  0.00000000e+00,  0.00000000e+00,  0.00000000e+00,\n",
       "        0.00000000e+00,  0.00000000e+00,  0.00000000e+00,  0.00000000e+00,\n",
       "        0.00000000e+00,  0.00000000e+00,  0.00000000e+00,  0.00000000e+00,\n",
       "        0.00000000e+00,  0.00000000e+00,  0.00000000e+00,  0.00000000e+00,\n",
       "        0.00000000e+00,  0.00000000e+00,  0.00000000e+00,  0.00000000e+00,\n",
       "        0.00000000e+00,  0.00000000e+00,  0.00000000e+00,  0.00000000e+00,\n",
       "        0.00000000e+00,  0.00000000e+00,  0.00000000e+00,  0.00000000e+00,\n",
       "        0.00000000e+00,  0.00000000e+00,  0.00000000e+00,  0.00000000e+00,\n",
       "        0.00000000e+00,  0.00000000e+00,  0.00000000e+00,  0.00000000e+00,\n",
       "        0.00000000e+00, -1.19379066e-03, -1.21056666e-03, -9.28053820e-04,\n",
       "       -9.04192182e-04, -9.87882495e-04, -8.03362276e-04, -8.76574068e-04,\n",
       "       -1.01194096e-03, -9.76150140e-04, -1.11563207e-03, -1.03389618e-03,\n",
       "       -9.94834340e-04, -9.87942481e-04, -9.73857067e-04, -1.02811432e-03,\n",
       "       -1.15631069e-03, -2.40810135e-03, -1.89574637e-03, -1.90251176e-03,\n",
       "       -2.29859255e-03, -1.10608284e-03, -2.03512804e-03, -1.09019602e-03,\n",
       "       -9.19994682e-04, -6.24773556e-04, -1.19769091e-04, -5.90299006e-04,\n",
       "       -9.13922621e-05,  2.45265212e-04, -8.38007536e-04, -1.33333994e-03,\n",
       "       -3.38047672e-04, -4.61877175e-04,  6.27112859e-05, -1.03437540e-04,\n",
       "       -4.46789946e-04, -2.13778388e-04, -7.35257412e-04,  1.53006912e-04,\n",
       "       -3.64685632e-04,  2.43680364e-04,  4.42452494e-04, -6.61050131e-04,\n",
       "       -1.14945976e-03, -8.62787319e-04, -1.02711247e-03, -1.21322489e-03,\n",
       "       -6.49756935e-04, -4.84749078e-04, -9.14451720e-05,  9.72044230e-05,\n",
       "       -4.97165811e-04,  2.28494304e-04,  1.31365938e-04, -1.12573068e-03,\n",
       "        7.42864623e-04,  1.41179725e-03,  7.34527982e-04, -3.98916654e-05,\n",
       "       -9.14954434e-04, -1.82949495e-03, -7.95402412e-04, -2.02799434e-04,\n",
       "       -4.52280104e-04, -2.49951748e-04, -3.07397054e-04, -7.81590858e-04,\n",
       "       -1.86519540e-04, -1.11641498e-03, -1.34477883e-03, -1.17799678e-03,\n",
       "       -1.69670679e-03, -1.26730625e-05, -1.94030161e-03, -1.22447171e-03,\n",
       "       -8.44927967e-04, -1.92522152e-03, -4.31969671e-04, -2.17963912e-03,\n",
       "       -7.43815175e-04, -1.34333023e-03, -1.86661304e-03,  4.90401933e-03,\n",
       "       -5.31393990e-03,  2.91997625e-03,  1.19512927e-02, -5.23438790e-03,\n",
       "        2.41088634e-03, -3.66171416e-04,  9.47077738e-03,  0.00000000e+00,\n",
       "        0.00000000e+00,  0.00000000e+00,  0.00000000e+00,  0.00000000e+00,\n",
       "        0.00000000e+00])"
      ]
     },
     "execution_count": 63,
     "metadata": {},
     "output_type": "execute_result"
    }
   ],
   "source": [
    "res_cov[0]"
   ]
  },
  {
   "cell_type": "code",
   "execution_count": 59,
   "id": "26508b54-047d-4029-ae34-f377bc616acd",
   "metadata": {},
   "outputs": [
    {
     "data": {
      "text/plain": [
       "(10, 427)"
      ]
     },
     "execution_count": 59,
     "metadata": {},
     "output_type": "execute_result"
    }
   ],
   "source": [
    "augmented_sets[0].shape"
   ]
  },
  {
   "cell_type": "code",
   "execution_count": 34,
   "id": "d5ef644a-736b-49c1-a5f5-e4fc292f59b5",
   "metadata": {},
   "outputs": [],
   "source": [
    "np.savetxt(r'C:\\Users\\vpatro\\Desktop\\cluster5_subset.txt', augmented_sets[0])"
   ]
  },
  {
   "cell_type": "code",
   "execution_count": null,
   "id": "abe1cb68-5a14-422c-9874-49b4537423a8",
   "metadata": {},
   "outputs": [],
   "source": []
  }
 ],
 "metadata": {
  "kernelspec": {
   "display_name": "Python 3 (ipykernel)",
   "language": "python",
   "name": "python3"
  },
  "language_info": {
   "codemirror_mode": {
    "name": "ipython",
    "version": 3
   },
   "file_extension": ".py",
   "mimetype": "text/x-python",
   "name": "python",
   "nbconvert_exporter": "python",
   "pygments_lexer": "ipython3",
   "version": "3.9.12"
  }
 },
 "nbformat": 4,
 "nbformat_minor": 5
}
