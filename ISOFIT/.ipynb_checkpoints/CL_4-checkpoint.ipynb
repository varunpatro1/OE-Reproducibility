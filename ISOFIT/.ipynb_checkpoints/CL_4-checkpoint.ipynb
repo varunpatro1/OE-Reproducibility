{
 "cells": [
  {
   "cell_type": "code",
   "execution_count": 1,
   "id": "474e0ef5-3615-4cb1-9293-da56ecfb51f8",
   "metadata": {},
   "outputs": [],
   "source": [
    "import random\n",
    "from geoarray import GeoArray\n",
    "import matplotlib.pyplot as plt\n",
    "import numpy as np\n",
    "import math\n",
    "from scipy.signal import savgol_filter\n",
    "from scipy.interpolate import splev, splrep\n",
    "# importing ISOFIT\n",
    "from isofit.utils import surface_model\n",
    "from isofit.core.forward import ForwardModel\n",
    "from isofit.configs.configs import create_new_config\n",
    "from isofit.inversion.inverse import Inversion\n",
    "from isofit.core.fileio import IO\n",
    "import tkinter\n",
    "import matplotlib\n",
    "matplotlib.use('TkAgg')\n",
    "%matplotlib inline"
   ]
  },
  {
   "cell_type": "code",
   "execution_count": 2,
   "id": "ee7cbd84-ddc5-43df-8c15-c73f2738f9de",
   "metadata": {},
   "outputs": [],
   "source": [
    "cluster = np.loadtxt(r'C:\\Users\\vpatro\\Desktop\\Final_Spectra\\425\\Cl_4.txt')"
   ]
  },
  {
   "cell_type": "code",
   "execution_count": 3,
   "id": "73d492a0-899d-49a7-8302-335cfd577641",
   "metadata": {},
   "outputs": [
    {
     "data": {
      "text/plain": [
       "(220596, 425)"
      ]
     },
     "execution_count": 3,
     "metadata": {},
     "output_type": "execute_result"
    }
   ],
   "source": [
    "cluster.shape"
   ]
  },
  {
   "cell_type": "code",
   "execution_count": 4,
   "id": "3d52b459-8f7b-4288-928a-c25f5b78b375",
   "metadata": {},
   "outputs": [],
   "source": [
    "cluster[:, 105:120] = savgol_filter(cluster[:, 105:120], 11,1, axis = 1)\n",
    "cluster[:, 140:165] = savgol_filter(cluster[:, 140:165], 21, 1, axis = 1)\n",
    "cluster[:, 398:419] = savgol_filter(cluster[:, 398:419], 11, 1, axis = 1)"
   ]
  },
  {
   "cell_type": "code",
   "execution_count": 5,
   "id": "73a4c769-f333-4571-a524-f49d0a349ea9",
   "metadata": {},
   "outputs": [
    {
     "data": {
      "text/plain": [
       "(0.0, 0.65)"
      ]
     },
     "execution_count": 5,
     "metadata": {},
     "output_type": "execute_result"
    },
    {
     "data": {
      "image/png": "[encoded data removed]",
      "text/plain": [
       "<Figure size 432x288 with 1 Axes>"
      ]
     },
     "metadata": {
      "needs_background": "light"
     },
     "output_type": "display_data"
    }
   ],
   "source": [
    "plt.plot(cluster[100000])\n",
    "plt.plot(cluster[200000])\n",
    "plt.ylim(0,0.65)"
   ]
  },
  {
   "cell_type": "code",
   "execution_count": null,
   "id": "d6965b58-7ae4-4699-bd38-a607c7fe6302",
   "metadata": {},
   "outputs": [],
   "source": [
    "def sample_spectra(cluster_spectra:np.array, num_sets, num_samples):\n",
    "\n",
    "    sample_sets = []\n",
    "    \n",
    "    for i in range(num_sets):\n",
    "        sample = random.sample(range(0, cluster_spectra.shape[0]), num_samples)\n",
    "        sample_sets.append(cluster_spectra[sample])\n",
    "        \n",
    "    sample_sets = np.array(sample_sets)\n",
    "        \n",
    "    return sample_sets\n",
    "\n",
    "def add_RT_parameters(multi_set_spectra:np.array)-> np.array:\n",
    "    \n",
    "    augmented_set = []\n",
    "    \n",
    "    H2O = [1.75] * multi_set_spectra.shape[1]\n",
    "    AOT = [0.05] * multi_set_spectra.shape[1]\n",
    "    \n",
    "    H2O = np.array(H2O)[:,None]\n",
    "    AOT = np.array(AOT)[:,None]\n",
    "    \n",
    "    for i in range(multi_set_spectra.shape[0]):\n",
    "        augmented = np.concatenate((multi_set_spectra[i], AOT), axis = 1)\n",
    "        augmented = np.concatenate((augmented, H2O), axis = 1)\n",
    "        augmented_set.append(augmented)\n",
    "        \n",
    "    augmented_set = np.array(augmented_set)\n",
    "    \n",
    "    return augmented_set\n",
    "\n",
    "def run_ISOFIT(input_reflectance: np.array) -> np.array:\n",
    "    \n",
    "    # Surface model\n",
    "    surface_model(\"C:\\\\Users\\\\vpatro\\\\Desktop\\\\isofit_vp\\\\examples\\\\20171108_Pasadena\\\\configs\\\\ang20171108t184227_surface.json\")\n",
    "\n",
    "    # Creating ISOFIT objects\n",
    "    config = create_new_config(\"C:\\\\Users\\\\vpatro\\\\Desktop\\\\isofit_vp\\\\examples\\\\20171108_Pasadena\\\\configs\\\\ang20171108t184227_beckmanlawn.json\")\n",
    "    fm = ForwardModel(config)\n",
    "    inv = Inversion(config, fm)\n",
    "    io = IO(config, fm)\n",
    "    io.get_components_at_index(0, 0)\n",
    "    geom = io.current_input_data.geom # alternately, call via geom = Geometry()...this won't have data from the above config file\n",
    "    meas = io.current_input_data.meas  # a numpy  array\n",
    "\n",
    "    # adding in Radiative Transfer Parameters\n",
    "    #x = np.loadtxt(\"C:\\\\Users\\\\vpatro\\\\Desktop\\\\avirisng_input.txt\")\n",
    "    input_reflectance = np.append(input_reflectance,0.05)\n",
    "    input_reflectance = np.append(input_reflectance,1.75)\n",
    "    \n",
    "    radiance_measurement = fm.calc_rdn(input_reflectance,geom)\n",
    "    OE_estimation = inv.invert(radiance_measurement, geom)[-1]\n",
    "    \n",
    "    return OE_estimation"
   ]
  },
  {
   "cell_type": "code",
   "execution_count": null,
   "id": "5bf4984f-f905-46ba-a975-c665537f7722",
   "metadata": {},
   "outputs": [],
   "source": [
    "def remove_bad_bands(spectra: np.array):\n",
    "    bands = list(range(0,425))\n",
    "    bands = np.array(bands)\n",
    "    deeph2o = np.logical_or(np.logical_and(bands > 181, bands < 224), np.logical_and(bands > 275, bands < 329))\n",
    "    bad_cal = np.logical_or(bands > 418, bands < 3)\n",
    "    bad = np.logical_or(deeph2o, bad_cal)\n",
    "    spectra[bad] = np.nan\n",
    "    \n",
    "    return spectra"
   ]
  },
  {
   "cell_type": "code",
   "execution_count": null,
   "id": "a3814ebc-39dc-476e-a40f-2ea3ca6983ea",
   "metadata": {},
   "outputs": [],
   "source": [
    "# Appending RT parameters\n",
    "sample_sets = sample_spectra(cluster, 5, 100)\n",
    "print(sample_sets.shape)\n",
    "augmented_sets = add_RT_parameters(sample_sets)\n",
    "print(augmented_sets.shape)"
   ]
  },
  {
   "cell_type": "code",
   "execution_count": null,
   "id": "0d5e5929-366c-414e-bfca-a71a9ad2f366",
   "metadata": {},
   "outputs": [],
   "source": [
    "l2norms = []\n",
    "residuals = []\n",
    "inputs = []\n",
    "outputs = []"
   ]
  },
  {
   "cell_type": "code",
   "execution_count": null,
   "id": "09d0845d-91cb-4616-b844-d1431d90374f",
   "metadata": {},
   "outputs": [],
   "source": [
    "for i in range(5):\n",
    "    for j in range(100):\n",
    "        input_vec = augmented_sets[i][j].copy()\n",
    "        inputs.append(input_vec)\n",
    "        OE_estimation = run_ISOFIT(input_vec)\n",
    "        outputs.append(OE_estimation)\n",
    "        l2norm = np.linalg.norm(input_vec - OE_estimation)\n",
    "        l2norms.append(l2norm)\n",
    "        residual = input_vec-OE_estimation\n",
    "        residuals.append(residual)\n"
   ]
  },
  {
   "cell_type": "code",
   "execution_count": null,
   "id": "d1a07b2c-ac01-4c96-b0f2-00afe9045804",
   "metadata": {},
   "outputs": [],
   "source": [
    "len(outputs)"
   ]
  },
  {
   "cell_type": "code",
   "execution_count": null,
   "id": "f9fecd64-9a53-4a64-8c51-f4234aeb026a",
   "metadata": {},
   "outputs": [],
   "source": [
    "fig, axs = plt.subplots(nrows = 5, ncols = 2, figsize = (24,16), constrained_layout = True)\n",
    "\n",
    "count = 0\n",
    "row = 0\n",
    "col = 0\n",
    "for i in range(0,100,10):\n",
    "    if col == 2:\n",
    "        row +=1\n",
    "        col = 0\n",
    "    cleaned_input = remove_bad_bands(inputs[i,:425].copy())\n",
    "    cleaned_output = remove_bad_bands(outputs[i][:425].copy())\n",
    "    axs[row,col].plot(cleaned_input, label = 'input')\n",
    "    axs[row,col].plot(cleaned_output, label = 'output')\n",
    "    axs[row,col].legend()\n",
    "    axs[row,col].set_ylim(0,1)\n",
    "    col+= 1"
   ]
  },
  {
   "cell_type": "code",
   "execution_count": null,
   "id": "7f4e0610-3c29-4e30-80f6-2e2f10e07d61",
   "metadata": {},
   "outputs": [],
   "source": [
    "fig, axs = plt.subplots(nrows = 5, ncols = 2, figsize = (24,16), constrained_layout = True)\n",
    "\n",
    "count = 0\n",
    "row = 0\n",
    "col = 0\n",
    "for i in range(100,200,10):\n",
    "    if col == 2:\n",
    "        row +=1\n",
    "        col = 0\n",
    "    cleaned_input = remove_bad_bands(inputs[i,:425].copy())\n",
    "    cleaned_output = remove_bad_bands(outputs[i][:425].copy())\n",
    "    axs[row,col].plot(cleaned_input, label = 'input')\n",
    "    axs[row,col].plot(cleaned_output, label = 'output')\n",
    "    axs[row,col].legend()\n",
    "    axs[row,col].set_ylim(0,1)\n",
    "    col+= 1\n"
   ]
  },
  {
   "cell_type": "code",
   "execution_count": null,
   "id": "059eddf1-a821-4ccc-be0b-d5b00f8a5111",
   "metadata": {},
   "outputs": [],
   "source": [
    "fig, axs = plt.subplots(nrows = 5, ncols = 2, figsize = (24,16), constrained_layout = True)\n",
    "\n",
    "count = 0\n",
    "row = 0\n",
    "col = 0\n",
    "for i in range(200,300,10):\n",
    "    if col == 2:\n",
    "        row +=1\n",
    "        col = 0\n",
    "    cleaned_input = remove_bad_bands(inputs[i,:425].copy())\n",
    "    cleaned_output = remove_bad_bands(outputs[i][:425].copy())\n",
    "    axs[row,col].plot(cleaned_input, label = 'input')\n",
    "    axs[row,col].plot(cleaned_output, label = 'output')\n",
    "    axs[row,col].legend()\n",
    "    axs[row,col].set_ylim(0,1)\n",
    "    col+= 1\n"
   ]
  },
  {
   "cell_type": "code",
   "execution_count": null,
   "id": "dc9ca713-ae15-49aa-9b9e-701e59ad21cf",
   "metadata": {},
   "outputs": [],
   "source": [
    "fig, axs = plt.subplots(nrows = 5, ncols = 2, figsize = (24,16), constrained_layout = True)\n",
    "\n",
    "count = 0\n",
    "row = 0\n",
    "col = 0\n",
    "for i in range(300,400,10):\n",
    "    if col == 2:\n",
    "        row +=1\n",
    "        col = 0\n",
    "    cleaned_input = remove_bad_bands(inputs[i,:425].copy())\n",
    "    cleaned_output = remove_bad_bands(outputs[i][:425].copy())\n",
    "    axs[row,col].plot(cleaned_input, label = 'input')\n",
    "    axs[row,col].plot(cleaned_output, label = 'output')\n",
    "    axs[row,col].legend()\n",
    "    axs[row,col].set_ylim(0,1)\n",
    "    col+= 1\n"
   ]
  },
  {
   "cell_type": "code",
   "execution_count": null,
   "id": "a694e233-e321-4fb6-a86d-befe5dd7da78",
   "metadata": {},
   "outputs": [],
   "source": [
    "fig, axs = plt.subplots(nrows = 5, ncols = 2, figsize = (24,16), constrained_layout = True)\n",
    "\n",
    "count = 0\n",
    "row = 0\n",
    "col = 0\n",
    "for i in range(400,500,10):\n",
    "    if col == 2:\n",
    "        row +=1\n",
    "        col = 0\n",
    "    cleaned_input = remove_bad_bands(inputs[i,:425].copy())\n",
    "    cleaned_output = remove_bad_bands(outputs[i][:425].copy())\n",
    "    axs[row,col].plot(cleaned_input, label = 'input')\n",
    "    axs[row,col].plot(cleaned_output, label = 'output')\n",
    "    axs[row,col].legend()\n",
    "    axs[row,col].set_ylim(0,1)\n",
    "    col+= 1\n"
   ]
  },
  {
   "cell_type": "code",
   "execution_count": null,
   "id": "9204de64-2658-4d74-9105-5c8f54f07ffe",
   "metadata": {},
   "outputs": [],
   "source": [
    "residuals = np.array(residuals)\n",
    "res_cov = residuals[:,:425].copy()\n",
    "bands = list(range(0,425))\n",
    "bands = np.array(bands)\n",
    "deeph2o = np.logical_or(np.logical_and(bands > 181, bands < 224), np.logical_and(bands > 275, bands < 329))\n",
    "bad_cal = np.logical_or(bands < 4, bands > 418)\n",
    "bad = np.logical_or(deeph2o, bad_cal)\n",
    "res_cov[:, bad] = 0\n",
    "\n",
    "Cov = np.cov(res_cov, rowvar=False)\n",
    "\n",
    "plt.imshow(Cov)\n",
    "plt.colorbar()\n",
    "plt.clim(0,0.00002)\n",
    "plt.title('Covariance of Residuals')"
   ]
  }
 ],
 "metadata": {
  "kernelspec": {
   "display_name": "Python 3 (ipykernel)",
   "language": "python",
   "name": "python3"
  },
  "language_info": {
   "codemirror_mode": {
    "name": "ipython",
    "version": 3
   },
   "file_extension": ".py",
   "mimetype": "text/x-python",
   "name": "python",
   "nbconvert_exporter": "python",
   "pygments_lexer": "ipython3",
   "version": "3.9.12"
  }
 },
 "nbformat": 4,
 "nbformat_minor": 5
}
