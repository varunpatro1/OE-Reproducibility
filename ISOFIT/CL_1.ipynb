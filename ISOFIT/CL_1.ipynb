{
 "cells": [
  {
   "cell_type": "code",
   "execution_count": 123,
   "id": "b93c4cdc-81e8-44a4-b52f-92371a712131",
   "metadata": {},
   "outputs": [],
   "source": [
    "import random\n",
    "from geoarray import GeoArray\n",
    "import matplotlib.pyplot as plt\n",
    "import numpy as np\n",
    "import math\n",
    "from scipy.signal import savgol_filter\n",
    "from scipy.interpolate import splev, splrep\n",
    "# importing ISOFIT\n",
    "from isofit.utils import surface_model\n",
    "from isofit.core.forward import ForwardModel\n",
    "from isofit.configs.configs import create_new_config\n",
    "from isofit.inversion.inverse import Inversion\n",
    "from isofit.core.fileio import IO\n",
    "import tkinter\n",
    "import matplotlib\n",
    "matplotlib.use('TkAgg')\n",
    "%matplotlib inline"
   ]
  },
  {
   "cell_type": "code",
   "execution_count": 44,
   "id": "13300c54-b527-4236-ae64-d5feecf3ae0c",
   "metadata": {},
   "outputs": [],
   "source": [
    "cluster_1 = np.loadtxt(r'C:\\Users\\vpatro\\Desktop\\Final_Spectra\\425\\Cl_1.txt')"
   ]
  },
  {
   "cell_type": "code",
   "execution_count": 136,
   "id": "23fbb19d-9a34-443f-a7e6-7c46619ec2ec",
   "metadata": {},
   "outputs": [
    {
     "data": {
      "text/plain": [
       "(568528, 425)"
      ]
     },
     "execution_count": 136,
     "metadata": {},
     "output_type": "execute_result"
    }
   ],
   "source": [
    "cluster_1.shape"
   ]
  },
  {
   "cell_type": "code",
   "execution_count": 145,
   "id": "92bf807f-7724-40b7-88ab-de2fc455059b",
   "metadata": {},
   "outputs": [],
   "source": [
    "def sample_spectra(cluster_spectra:np.array, num_sets, num_samples):\n",
    "\n",
    "    sample_sets = []\n",
    "    \n",
    "    for i in range(num_sets):\n",
    "        sample = random.sample(range(0, cluster_spectra.shape[0]), num_samples)\n",
    "        sample_sets.append(cluster_spectra[sample])\n",
    "        \n",
    "    sample_sets = np.array(sample_sets)\n",
    "        \n",
    "    return sample_sets\n",
    "\n",
    "def add_RT_parameters(multi_set_spectra:np.array)-> np.array:\n",
    "    \n",
    "    augmented_set = []\n",
    "    \n",
    "    H2O = [1.75] * multi_set_spectra.shape[1]\n",
    "    AOT = [0.05] * multi_set_spectra.shape[1]\n",
    "    \n",
    "    H2O = np.array(H2O)[:,None]\n",
    "    AOT = np.array(AOT)[:,None]\n",
    "    \n",
    "    for i in range(multi_set_spectra.shape[0]):\n",
    "        augmented = np.concatenate((multi_set_spectra[i], AOT), axis = 1)\n",
    "        augmented = np.concatenate((augmented, H2O), axis = 1)\n",
    "        augmented_set.append(augmented)\n",
    "        \n",
    "    augmented_set = np.array(augmented_set)\n",
    "    \n",
    "    return augmented_set\n",
    "\n",
    "def run_ISOFIT(input_reflectance: np.array) -> np.array:\n",
    "    \n",
    "    # Surface model\n",
    "    surface_model(\"C:\\\\Users\\\\vpatro\\\\Desktop\\\\isofit_vp\\\\examples\\\\20171108_Pasadena\\\\configs\\\\ang20171108t184227_aquatic.json\")\n",
    "\n",
    "    # Creating ISOFIT objects\n",
    "    config = create_new_config(\"C:\\\\Users\\\\vpatro\\\\Desktop\\\\isofit_vp\\\\examples\\\\20171108_Pasadena\\\\configs\\\\ang20171108t184227_beckmanlawn.json\")\n",
    "    fm = ForwardModel(config)\n",
    "    inv = Inversion(config, fm)\n",
    "    io = IO(config, fm)\n",
    "    io.get_components_at_index(0, 0)\n",
    "    geom = io.current_input_data.geom # alternately, call via geom = Geometry()...this won't have data from the above config file\n",
    "    meas = io.current_input_data.meas  # a numpy  array\n",
    "\n",
    "    # adding in Radiative Transfer Parameters\n",
    "    #x = np.loadtxt(\"C:\\\\Users\\\\vpatro\\\\Desktop\\\\avirisng_input.txt\")\n",
    "    input_reflectance = np.append(input_reflectance,0.05)\n",
    "    input_reflectance = np.append(input_reflectance,1.75)\n",
    "    \n",
    "    radiance_measurement = fm.calc_rdn(input_reflectance,geom)\n",
    "    OE_estimation = inv.invert(radiance_measurement, geom)[-1]\n",
    "    \n",
    "    return OE_estimation"
   ]
  },
  {
   "cell_type": "code",
   "execution_count": 138,
   "id": "bf006f6e-da87-4900-9c1c-e473a2bafaa9",
   "metadata": {},
   "outputs": [],
   "source": [
    "def remove_bad_bands(spectra: np.array):\n",
    "    bands = list(range(0,425))\n",
    "    bands = np.array(bands)\n",
    "    deeph2o = np.logical_or(np.logical_and(bands > 181, bands < 224), np.logical_and(bands > 275, bands < 329))\n",
    "    bad_cal = np.logical_or(bands > 418, bands < 3)\n",
    "    bad = np.logical_or(deeph2o, bad_cal)\n",
    "    spectra[bad] = np.nan\n",
    "    \n",
    "    return spectra"
   ]
  },
  {
   "cell_type": "code",
   "execution_count": 140,
   "id": "1f54db25-080f-481d-ab9c-914bd3ae73e3",
   "metadata": {},
   "outputs": [
    {
     "name": "stdout",
     "output_type": "stream",
     "text": [
      "(5, 100, 425)\n",
      "(5, 100, 427)\n"
     ]
    }
   ],
   "source": [
    "# Appending RT parameters\n",
    "sample_sets = sample_spectra(cluster_1, 5, 100)\n",
    "print(sample_sets.shape)\n",
    "augmented_sets = add_RT_parameters(sample_sets)\n",
    "print(augmented_sets.shape)"
   ]
  },
  {
   "cell_type": "code",
   "execution_count": 146,
   "id": "dfd561f7-1057-4a7e-a503-ea9c907e956d",
   "metadata": {},
   "outputs": [],
   "source": [
    "l2norms = []\n",
    "residuals = []\n",
    "inputs = []\n",
    "outputs = []"
   ]
  },
  {
   "cell_type": "code",
   "execution_count": 147,
   "id": "7b1c5d19-04c8-47c9-a2b7-f72f810d6d55",
   "metadata": {},
   "outputs": [
    {
     "name": "stderr",
     "output_type": "stream",
     "text": [
      "WARNING:root:Optimization failed to converge\n",
      "WARNING:root:Optimization failed to converge\n",
      "WARNING:root:Optimization failed to converge\n",
      "WARNING:root:Optimization failed to converge\n"
     ]
    },
    {
     "ename": "IndexError",
     "evalue": "index -1 is out of bounds for axis 0 with size 0",
     "output_type": "error",
     "traceback": [
      "\u001b[1;31m---------------------------------------------------------------------------\u001b[0m",
      "\u001b[1;31mIndexError\u001b[0m                                Traceback (most recent call last)",
      "Input \u001b[1;32mIn [147]\u001b[0m, in \u001b[0;36m<cell line: 1>\u001b[1;34m()\u001b[0m\n\u001b[0;32m      2\u001b[0m input_vec \u001b[38;5;241m=\u001b[39m augmented_sets[\u001b[38;5;241m0\u001b[39m][i]\u001b[38;5;241m.\u001b[39mcopy()\n\u001b[0;32m      3\u001b[0m inputs\u001b[38;5;241m.\u001b[39mappend(input_vec)\n\u001b[1;32m----> 4\u001b[0m OE_estimation \u001b[38;5;241m=\u001b[39m \u001b[43mrun_ISOFIT\u001b[49m\u001b[43m(\u001b[49m\u001b[43minput_vec\u001b[49m\u001b[43m)\u001b[49m\n\u001b[0;32m      5\u001b[0m outputs\u001b[38;5;241m.\u001b[39mappend(OE_estimation)\n\u001b[0;32m      6\u001b[0m l2norm \u001b[38;5;241m=\u001b[39m np\u001b[38;5;241m.\u001b[39mlinalg\u001b[38;5;241m.\u001b[39mnorm(input_vec \u001b[38;5;241m-\u001b[39m OE_estimation)\n",
      "Input \u001b[1;32mIn [145]\u001b[0m, in \u001b[0;36mrun_ISOFIT\u001b[1;34m(input_reflectance)\u001b[0m\n\u001b[0;32m     49\u001b[0m input_reflectance \u001b[38;5;241m=\u001b[39m np\u001b[38;5;241m.\u001b[39mappend(input_reflectance,\u001b[38;5;241m1.75\u001b[39m)\n\u001b[0;32m     51\u001b[0m radiance_measurement \u001b[38;5;241m=\u001b[39m fm\u001b[38;5;241m.\u001b[39mcalc_rdn(input_reflectance,geom)\n\u001b[1;32m---> 52\u001b[0m OE_estimation \u001b[38;5;241m=\u001b[39m \u001b[43minv\u001b[49m\u001b[38;5;241;43m.\u001b[39;49m\u001b[43minvert\u001b[49m\u001b[43m(\u001b[49m\u001b[43mradiance_measurement\u001b[49m\u001b[43m,\u001b[49m\u001b[43m \u001b[49m\u001b[43mgeom\u001b[49m\u001b[43m)\u001b[49m\u001b[43m[\u001b[49m\u001b[38;5;241;43m-\u001b[39;49m\u001b[38;5;241;43m1\u001b[39;49m\u001b[43m]\u001b[49m\n\u001b[0;32m     54\u001b[0m \u001b[38;5;28;01mreturn\u001b[39;00m OE_estimation\n",
      "\u001b[1;31mIndexError\u001b[0m: index -1 is out of bounds for axis 0 with size 0"
     ]
    }
   ],
   "source": [
    "for i in range(100):\n",
    "    input_vec = augmented_sets[0][i].copy()\n",
    "    inputs.append(input_vec)\n",
    "    OE_estimation = run_ISOFIT(input_vec)\n",
    "    outputs.append(OE_estimation)\n",
    "    l2norm = np.linalg.norm(input_vec - OE_estimation)\n",
    "    l2norms.append(l2norm)\n",
    "    residual = input_vec-OE_estimation\n",
    "    residuals.append(residual)"
   ]
  },
  {
   "cell_type": "code",
   "execution_count": 143,
   "id": "52921185-a82d-49d4-9d57-030051a416fc",
   "metadata": {},
   "outputs": [],
   "source": [
    "for i in range(100):\n",
    "    input_vec = augmented_sets[1][i].copy()\n",
    "    inputs.append(input_vec)\n",
    "    OE_estimation = run_ISOFIT(input_vec)\n",
    "    outputs.append(OE_estimation)\n",
    "    l2norm = np.linalg.norm(input_vec - OE_estimation)\n",
    "    l2norms.append(l2norm)\n",
    "    residual = input_vec-OE_estimation\n",
    "    residuals.append(residual)"
   ]
  },
  {
   "cell_type": "code",
   "execution_count": 144,
   "id": "6f88d1b8-eacc-4421-a62d-736279b467b3",
   "metadata": {},
   "outputs": [
    {
     "name": "stderr",
     "output_type": "stream",
     "text": [
      "\n",
      "KeyboardInterrupt\n",
      "\n"
     ]
    }
   ],
   "source": [
    "for i in range(100):\n",
    "    input_vec = augmented_sets[2][i].copy()\n",
    "    inputs.append(input_vec)\n",
    "    OE_estimation = run_ISOFIT(input_vec)\n",
    "    outputs.append(OE_estimation)\n",
    "    l2norm = np.linalg.norm(input_vec - OE_estimation)\n",
    "    l2norms.append(l2norm)\n",
    "    residual = input_vec-OE_estimation\n",
    "    residuals.append(residual)"
   ]
  },
  {
   "cell_type": "code",
   "execution_count": null,
   "id": "4d086501-24bb-4b5f-bd19-e9aee335fcaa",
   "metadata": {},
   "outputs": [],
   "source": [
    "for i in range(100):\n",
    "    input_vec = augmented_sets[3][i].copy()\n",
    "    inputs.append(input_vec)\n",
    "    OE_estimation = run_ISOFIT(input_vec)\n",
    "    outputs.append(OE_estimation)\n",
    "    l2norm = np.linalg.norm(input_vec - OE_estimation)\n",
    "    l2norms.append(l2norm)\n",
    "    residual = input_vec-OE_estimation\n",
    "    residuals.append(residual)"
   ]
  },
  {
   "cell_type": "code",
   "execution_count": null,
   "id": "74d0aefd-17c6-40db-896d-8286f478f77e",
   "metadata": {},
   "outputs": [],
   "source": [
    "for i in range(100):\n",
    "    input_vec = augmented_sets[4][i].copy()\n",
    "    inputs.append(input_vec)\n",
    "    OE_estimation = run_ISOFIT(input_vec)\n",
    "    outputs.append(OE_estimation)\n",
    "    l2norm = np.linalg.norm(input_vec - OE_estimation)\n",
    "    l2norms.append(l2norm)\n",
    "    residual = input_vec-OE_estimation\n",
    "    residuals.append(residual)"
   ]
  },
  {
   "cell_type": "code",
   "execution_count": null,
   "id": "8d3a6239-5a77-4d24-af09-643328e309ad",
   "metadata": {},
   "outputs": [],
   "source": []
  }
 ],
 "metadata": {
  "kernelspec": {
   "display_name": "Python 3 (ipykernel)",
   "language": "python",
   "name": "python3"
  },
  "language_info": {
   "codemirror_mode": {
    "name": "ipython",
    "version": 3
   },
   "file_extension": ".py",
   "mimetype": "text/x-python",
   "name": "python",
   "nbconvert_exporter": "python",
   "pygments_lexer": "ipython3",
   "version": "3.9.12"
  }
 },
 "nbformat": 4,
 "nbformat_minor": 5
}
